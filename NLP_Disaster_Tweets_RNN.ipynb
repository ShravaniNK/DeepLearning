{
 "cells": [
  {
   "cell_type": "markdown",
   "id": "1e6d9aa0",
   "metadata": {},
   "source": [
    "# Natural Language Processing with Disaster Tweets"
   ]
  },
  {
   "cell_type": "code",
   "execution_count": 41,
   "id": "201abd76",
   "metadata": {},
   "outputs": [
    {
     "name": "stderr",
     "output_type": "stream",
     "text": [
      "[nltk_data] Downloading package wordnet to\n",
      "[nltk_data]     C:\\Users\\shrav\\AppData\\Roaming\\nltk_data...\n",
      "[nltk_data]   Package wordnet is already up-to-date!\n",
      "'unzip' is not recognized as an internal or external command,\n",
      "operable program or batch file.\n",
      "[nltk_data] Downloading package punkt to\n",
      "[nltk_data]     C:\\Users\\shrav\\AppData\\Roaming\\nltk_data...\n",
      "[nltk_data]   Package punkt is already up-to-date!\n",
      "[nltk_data] Downloading package stopwords to\n",
      "[nltk_data]     C:\\Users\\shrav\\AppData\\Roaming\\nltk_data...\n",
      "[nltk_data]   Package stopwords is already up-to-date!\n"
     ]
    }
   ],
   "source": [
    "## Install Libraries\n",
    "import warnings\n",
    "warnings.filterwarnings('ignore')\n",
    "\n",
    "import math\n",
    "import time\n",
    "import numpy as np\n",
    "import pandas as pd \n",
    "\n",
    "# Visualization\n",
    "import seaborn as sns\n",
    "import matplotlib.pyplot as plt\n",
    "\n",
    "import os\n",
    "import gc\n",
    "import cv2 \n",
    "\n",
    "#from sklearn import feature_extraction, linear_model, model_selection, preprocessing\n",
    "from sklearn.metrics import ConfusionMatrixDisplay, confusion_matrix, classification_report\n",
    "#from wordcloud import WordCloud\n",
    "#from collections import Counter\n",
    "\n",
    "# Scikit-Learn\n",
    "import sklearn\n",
    "from sklearn.model_selection import train_test_split\n",
    "#from sklearn.model_selection import cross_val_score, KFold, StratifiedKFold\n",
    "#from sklearn.feature_extraction.text import CountVectorizer\n",
    "from sklearn.metrics import accuracy_score, precision_score, recall_score, f1_score\n",
    "#from sklearn.ensemble import VotingClassifier\n",
    "#from sklearn.feature_extraction.text import TfidfVectorizer\n",
    "\n",
    "# Text cleaning\n",
    "import string, re\n",
    "import nltk\n",
    "nltk.download('wordnet')\n",
    "!unzip /usr/share/nltk_data/corpora/wordnet.zip -d /usr/share/nltk_data/corpora/\n",
    "nltk.download('punkt')\n",
    "nltk.download('stopwords')\n",
    "from nltk.corpus import wordnet\n",
    "from nltk.corpus import stopwords\n",
    "from nltk.tokenize import word_tokenize\n",
    "#from nltk.stem import PorterStemmer\n",
    "from nltk.stem import WordNetLemmatizer\n",
    "\n",
    "\n",
    "\n",
    "# Tensorflow, keras\n",
    "import tensorflow as tf\n",
    "from tensorflow import keras\n",
    "from tensorflow.keras.preprocessing import text, sequence \n",
    "from tensorflow.keras.preprocessing.text import Tokenizer\n",
    "from tensorflow.keras.preprocessing.sequence import pad_sequences\n",
    "from keras.models import Sequential\n",
    "from keras.layers import Dense,Embedding,Activation,Dropout,Flatten,RNN,LSTM,GRU,Bidirectional,TextVectorization, BatchNormalization\n",
    "from keras.optimizers import RMSprop, SGD, Adam\n",
    "#from tensorflow.keras.callbacks import EarlyStopping,ModelCheckpoint\n",
    "#from keras.metrics import AUC\n",
    "#from gensim.models import Word2Vec\n"
   ]
  },
  {
   "cell_type": "markdown",
   "id": "2b0d2cce",
   "metadata": {},
   "source": [
    "## STEP1: Brief description of the problem and data\n",
    "- Identifying disaster tweets using NLP involves identifying and categorizing tweets that pertain to natural disasters or emergency situations.\n",
    "- The task is crucial for real-time disaster response,as it helps emergency services to quickly identify and respond to crises.\n",
    "- The training set consists of 7613 entries of tweets in text(unstructured) format and their target class( 1- disaster , 0 - not disaster).\n",
    "- The testing set consists of 3263 entries for evaluation.\n",
    "- Evaluations are done using the F1 score.\n",
    "​"
   ]
  },
  {
   "cell_type": "code",
   "execution_count": 2,
   "id": "701ce572",
   "metadata": {},
   "outputs": [
    {
     "name": "stdout",
     "output_type": "stream",
     "text": [
      "(7613, 5)\n"
     ]
    },
    {
     "data": {
      "text/html": [
       "<div>\n",
       "<style scoped>\n",
       "    .dataframe tbody tr th:only-of-type {\n",
       "        vertical-align: middle;\n",
       "    }\n",
       "\n",
       "    .dataframe tbody tr th {\n",
       "        vertical-align: top;\n",
       "    }\n",
       "\n",
       "    .dataframe thead th {\n",
       "        text-align: right;\n",
       "    }\n",
       "</style>\n",
       "<table border=\"1\" class=\"dataframe\">\n",
       "  <thead>\n",
       "    <tr style=\"text-align: right;\">\n",
       "      <th></th>\n",
       "      <th>id</th>\n",
       "      <th>keyword</th>\n",
       "      <th>location</th>\n",
       "      <th>text</th>\n",
       "      <th>target</th>\n",
       "    </tr>\n",
       "  </thead>\n",
       "  <tbody>\n",
       "    <tr>\n",
       "      <th>0</th>\n",
       "      <td>1</td>\n",
       "      <td>NaN</td>\n",
       "      <td>NaN</td>\n",
       "      <td>Our Deeds are the Reason of this #earthquake M...</td>\n",
       "      <td>1</td>\n",
       "    </tr>\n",
       "    <tr>\n",
       "      <th>1</th>\n",
       "      <td>4</td>\n",
       "      <td>NaN</td>\n",
       "      <td>NaN</td>\n",
       "      <td>Forest fire near La Ronge Sask. Canada</td>\n",
       "      <td>1</td>\n",
       "    </tr>\n",
       "    <tr>\n",
       "      <th>2</th>\n",
       "      <td>5</td>\n",
       "      <td>NaN</td>\n",
       "      <td>NaN</td>\n",
       "      <td>All residents asked to 'shelter in place' are ...</td>\n",
       "      <td>1</td>\n",
       "    </tr>\n",
       "    <tr>\n",
       "      <th>3</th>\n",
       "      <td>6</td>\n",
       "      <td>NaN</td>\n",
       "      <td>NaN</td>\n",
       "      <td>13,000 people receive #wildfires evacuation or...</td>\n",
       "      <td>1</td>\n",
       "    </tr>\n",
       "    <tr>\n",
       "      <th>4</th>\n",
       "      <td>7</td>\n",
       "      <td>NaN</td>\n",
       "      <td>NaN</td>\n",
       "      <td>Just got sent this photo from Ruby #Alaska as ...</td>\n",
       "      <td>1</td>\n",
       "    </tr>\n",
       "  </tbody>\n",
       "</table>\n",
       "</div>"
      ],
      "text/plain": [
       "   id keyword location                                               text  \\\n",
       "0   1     NaN      NaN  Our Deeds are the Reason of this #earthquake M...   \n",
       "1   4     NaN      NaN             Forest fire near La Ronge Sask. Canada   \n",
       "2   5     NaN      NaN  All residents asked to 'shelter in place' are ...   \n",
       "3   6     NaN      NaN  13,000 people receive #wildfires evacuation or...   \n",
       "4   7     NaN      NaN  Just got sent this photo from Ruby #Alaska as ...   \n",
       "\n",
       "   target  \n",
       "0       1  \n",
       "1       1  \n",
       "2       1  \n",
       "3       1  \n",
       "4       1  "
      ]
     },
     "execution_count": 2,
     "metadata": {},
     "output_type": "execute_result"
    }
   ],
   "source": [
    "# Train data\n",
    "train_df = pd.read_csv('train.csv')\n",
    "#'/kaggle/input/nlp-getting-started/train.csv'\n",
    "print(train_df.shape)\n",
    "train_df.head()"
   ]
  },
  {
   "cell_type": "code",
   "execution_count": 3,
   "id": "531fc61f",
   "metadata": {},
   "outputs": [
    {
     "data": {
      "text/plain": [
       "id             0\n",
       "keyword       61\n",
       "location    2533\n",
       "text           0\n",
       "target         0\n",
       "dtype: int64"
      ]
     },
     "execution_count": 3,
     "metadata": {},
     "output_type": "execute_result"
    }
   ],
   "source": [
    "train_df.isna().sum()"
   ]
  },
  {
   "cell_type": "code",
   "execution_count": 4,
   "id": "b8977173",
   "metadata": {},
   "outputs": [
    {
     "data": {
      "text/plain": [
       "0"
      ]
     },
     "execution_count": 4,
     "metadata": {},
     "output_type": "execute_result"
    }
   ],
   "source": [
    "train_df.duplicated().sum()"
   ]
  },
  {
   "cell_type": "code",
   "execution_count": 5,
   "id": "f8772df6",
   "metadata": {},
   "outputs": [
    {
     "name": "stdout",
     "output_type": "stream",
     "text": [
      "(3263, 4)\n"
     ]
    },
    {
     "data": {
      "text/html": [
       "<div>\n",
       "<style scoped>\n",
       "    .dataframe tbody tr th:only-of-type {\n",
       "        vertical-align: middle;\n",
       "    }\n",
       "\n",
       "    .dataframe tbody tr th {\n",
       "        vertical-align: top;\n",
       "    }\n",
       "\n",
       "    .dataframe thead th {\n",
       "        text-align: right;\n",
       "    }\n",
       "</style>\n",
       "<table border=\"1\" class=\"dataframe\">\n",
       "  <thead>\n",
       "    <tr style=\"text-align: right;\">\n",
       "      <th></th>\n",
       "      <th>id</th>\n",
       "      <th>keyword</th>\n",
       "      <th>location</th>\n",
       "      <th>text</th>\n",
       "    </tr>\n",
       "  </thead>\n",
       "  <tbody>\n",
       "    <tr>\n",
       "      <th>0</th>\n",
       "      <td>0</td>\n",
       "      <td>NaN</td>\n",
       "      <td>NaN</td>\n",
       "      <td>Just happened a terrible car crash</td>\n",
       "    </tr>\n",
       "    <tr>\n",
       "      <th>1</th>\n",
       "      <td>2</td>\n",
       "      <td>NaN</td>\n",
       "      <td>NaN</td>\n",
       "      <td>Heard about #earthquake is different cities, s...</td>\n",
       "    </tr>\n",
       "    <tr>\n",
       "      <th>2</th>\n",
       "      <td>3</td>\n",
       "      <td>NaN</td>\n",
       "      <td>NaN</td>\n",
       "      <td>there is a forest fire at spot pond, geese are...</td>\n",
       "    </tr>\n",
       "    <tr>\n",
       "      <th>3</th>\n",
       "      <td>9</td>\n",
       "      <td>NaN</td>\n",
       "      <td>NaN</td>\n",
       "      <td>Apocalypse lighting. #Spokane #wildfires</td>\n",
       "    </tr>\n",
       "    <tr>\n",
       "      <th>4</th>\n",
       "      <td>11</td>\n",
       "      <td>NaN</td>\n",
       "      <td>NaN</td>\n",
       "      <td>Typhoon Soudelor kills 28 in China and Taiwan</td>\n",
       "    </tr>\n",
       "  </tbody>\n",
       "</table>\n",
       "</div>"
      ],
      "text/plain": [
       "   id keyword location                                               text\n",
       "0   0     NaN      NaN                 Just happened a terrible car crash\n",
       "1   2     NaN      NaN  Heard about #earthquake is different cities, s...\n",
       "2   3     NaN      NaN  there is a forest fire at spot pond, geese are...\n",
       "3   9     NaN      NaN           Apocalypse lighting. #Spokane #wildfires\n",
       "4  11     NaN      NaN      Typhoon Soudelor kills 28 in China and Taiwan"
      ]
     },
     "execution_count": 5,
     "metadata": {},
     "output_type": "execute_result"
    }
   ],
   "source": [
    "# Test data\n",
    "test_df = pd.read_csv('test.csv')\n",
    "# '/kaggle/input/nlp-getting-started/test.csv'\n",
    "print(test_df.shape)\n",
    "test_df.head()"
   ]
  },
  {
   "cell_type": "code",
   "execution_count": 6,
   "id": "597f3e99",
   "metadata": {},
   "outputs": [
    {
     "data": {
      "text/plain": [
       "0"
      ]
     },
     "execution_count": 6,
     "metadata": {},
     "output_type": "execute_result"
    }
   ],
   "source": [
    "test_df.duplicated().sum()"
   ]
  },
  {
   "cell_type": "code",
   "execution_count": 7,
   "id": "66ab7d1a",
   "metadata": {},
   "outputs": [
    {
     "data": {
      "text/plain": [
       "id             0\n",
       "keyword       26\n",
       "location    1105\n",
       "text           0\n",
       "dtype: int64"
      ]
     },
     "execution_count": 7,
     "metadata": {},
     "output_type": "execute_result"
    }
   ],
   "source": [
    "test_df.isna().sum()"
   ]
  },
  {
   "cell_type": "markdown",
   "id": "b16bc7ea",
   "metadata": {},
   "source": [
    "## STEP2: Exploratory Data Analysis - Inspect, Visualize and Clean the Data\n",
    "\n",
    "### Inspect\n",
    "- Looking at the data and the nature of the problem we want to solve, it's recommended to remove unwanted columns like 'keyword' and 'location' from the raw dataset as most of the entries are missing and it simplifies our data exploration process."
   ]
  },
  {
   "cell_type": "code",
   "execution_count": 8,
   "id": "31d7bb62",
   "metadata": {},
   "outputs": [
    {
     "data": {
      "text/html": [
       "<div>\n",
       "<style scoped>\n",
       "    .dataframe tbody tr th:only-of-type {\n",
       "        vertical-align: middle;\n",
       "    }\n",
       "\n",
       "    .dataframe tbody tr th {\n",
       "        vertical-align: top;\n",
       "    }\n",
       "\n",
       "    .dataframe thead th {\n",
       "        text-align: right;\n",
       "    }\n",
       "</style>\n",
       "<table border=\"1\" class=\"dataframe\">\n",
       "  <thead>\n",
       "    <tr style=\"text-align: right;\">\n",
       "      <th></th>\n",
       "      <th>id</th>\n",
       "      <th>text</th>\n",
       "      <th>target</th>\n",
       "    </tr>\n",
       "  </thead>\n",
       "  <tbody>\n",
       "    <tr>\n",
       "      <th>0</th>\n",
       "      <td>1</td>\n",
       "      <td>Our Deeds are the Reason of this #earthquake M...</td>\n",
       "      <td>1</td>\n",
       "    </tr>\n",
       "    <tr>\n",
       "      <th>1</th>\n",
       "      <td>4</td>\n",
       "      <td>Forest fire near La Ronge Sask. Canada</td>\n",
       "      <td>1</td>\n",
       "    </tr>\n",
       "    <tr>\n",
       "      <th>2</th>\n",
       "      <td>5</td>\n",
       "      <td>All residents asked to 'shelter in place' are ...</td>\n",
       "      <td>1</td>\n",
       "    </tr>\n",
       "    <tr>\n",
       "      <th>3</th>\n",
       "      <td>6</td>\n",
       "      <td>13,000 people receive #wildfires evacuation or...</td>\n",
       "      <td>1</td>\n",
       "    </tr>\n",
       "    <tr>\n",
       "      <th>4</th>\n",
       "      <td>7</td>\n",
       "      <td>Just got sent this photo from Ruby #Alaska as ...</td>\n",
       "      <td>1</td>\n",
       "    </tr>\n",
       "  </tbody>\n",
       "</table>\n",
       "</div>"
      ],
      "text/plain": [
       "   id                                               text  target\n",
       "0   1  Our Deeds are the Reason of this #earthquake M...       1\n",
       "1   4             Forest fire near La Ronge Sask. Canada       1\n",
       "2   5  All residents asked to 'shelter in place' are ...       1\n",
       "3   6  13,000 people receive #wildfires evacuation or...       1\n",
       "4   7  Just got sent this photo from Ruby #Alaska as ...       1"
      ]
     },
     "execution_count": 8,
     "metadata": {},
     "output_type": "execute_result"
    }
   ],
   "source": [
    "# Removing unwanted columns from train data\n",
    "train_df = train_df.drop(columns = ['keyword','location'])\n",
    "train_df.head()"
   ]
  },
  {
   "cell_type": "code",
   "execution_count": 9,
   "id": "b205366d",
   "metadata": {},
   "outputs": [
    {
     "data": {
      "text/html": [
       "<div>\n",
       "<style scoped>\n",
       "    .dataframe tbody tr th:only-of-type {\n",
       "        vertical-align: middle;\n",
       "    }\n",
       "\n",
       "    .dataframe tbody tr th {\n",
       "        vertical-align: top;\n",
       "    }\n",
       "\n",
       "    .dataframe thead th {\n",
       "        text-align: right;\n",
       "    }\n",
       "</style>\n",
       "<table border=\"1\" class=\"dataframe\">\n",
       "  <thead>\n",
       "    <tr style=\"text-align: right;\">\n",
       "      <th></th>\n",
       "      <th>id</th>\n",
       "      <th>text</th>\n",
       "    </tr>\n",
       "  </thead>\n",
       "  <tbody>\n",
       "    <tr>\n",
       "      <th>0</th>\n",
       "      <td>0</td>\n",
       "      <td>Just happened a terrible car crash</td>\n",
       "    </tr>\n",
       "    <tr>\n",
       "      <th>1</th>\n",
       "      <td>2</td>\n",
       "      <td>Heard about #earthquake is different cities, s...</td>\n",
       "    </tr>\n",
       "    <tr>\n",
       "      <th>2</th>\n",
       "      <td>3</td>\n",
       "      <td>there is a forest fire at spot pond, geese are...</td>\n",
       "    </tr>\n",
       "    <tr>\n",
       "      <th>3</th>\n",
       "      <td>9</td>\n",
       "      <td>Apocalypse lighting. #Spokane #wildfires</td>\n",
       "    </tr>\n",
       "    <tr>\n",
       "      <th>4</th>\n",
       "      <td>11</td>\n",
       "      <td>Typhoon Soudelor kills 28 in China and Taiwan</td>\n",
       "    </tr>\n",
       "  </tbody>\n",
       "</table>\n",
       "</div>"
      ],
      "text/plain": [
       "   id                                               text\n",
       "0   0                 Just happened a terrible car crash\n",
       "1   2  Heard about #earthquake is different cities, s...\n",
       "2   3  there is a forest fire at spot pond, geese are...\n",
       "3   9           Apocalypse lighting. #Spokane #wildfires\n",
       "4  11      Typhoon Soudelor kills 28 in China and Taiwan"
      ]
     },
     "execution_count": 9,
     "metadata": {},
     "output_type": "execute_result"
    }
   ],
   "source": [
    "# Removing unwanted columns from test data\n",
    "test_df.drop(columns = ['keyword','location'], inplace=True)\n",
    "test_df.head()"
   ]
  },
  {
   "cell_type": "markdown",
   "id": "ef38dec1",
   "metadata": {},
   "source": [
    "### Visualize\n",
    "- Let us examine the distribution of target classes in our train data. \n",
    "- Understanding the distribution of the class helps to identify any bias present."
   ]
  },
  {
   "cell_type": "code",
   "execution_count": 10,
   "id": "f1960143",
   "metadata": {},
   "outputs": [
    {
     "data": {
      "text/plain": [
       "0    57.034021\n",
       "1    42.965979\n",
       "Name: target, dtype: float64"
      ]
     },
     "execution_count": 10,
     "metadata": {},
     "output_type": "execute_result"
    }
   ],
   "source": [
    "# Count the number of tweets in each class\n",
    "train_df['target'].value_counts()/len(train_df) * 100"
   ]
  },
  {
   "cell_type": "code",
   "execution_count": 11,
   "id": "3b6776a3",
   "metadata": {},
   "outputs": [
    {
     "data": {
      "image/png": "[encoded data removed]",
      "text/plain": [
       "<Figure size 576x432 with 1 Axes>"
      ]
     },
     "metadata": {
      "needs_background": "light"
     },
     "output_type": "display_data"
    }
   ],
   "source": [
    "# Plot the distribution of data classes\n",
    "plt.figure(figsize=(8, 6))\n",
    "sns.countplot(x='target', data=train_df)\n",
    "plt.title('Distribution of Tweets')\n",
    "plt.xlabel('Target')\n",
    "plt.ylabel('# Tweets')\n",
    "plt.show()"
   ]
  },
  {
   "cell_type": "markdown",
   "id": "0cafc914",
   "metadata": {},
   "source": [
    "- The statistics shows that the data has 57% of tweets which are labelled as 0(not disaster) and 42% of tweets which are labelled as 1 (diasater), as evident in the plot."
   ]
  },
  {
   "cell_type": "code",
   "execution_count": 12,
   "id": "b2789e4d",
   "metadata": {},
   "outputs": [
    {
     "data": {
      "text/html": [
       "<div>\n",
       "<style scoped>\n",
       "    .dataframe tbody tr th:only-of-type {\n",
       "        vertical-align: middle;\n",
       "    }\n",
       "\n",
       "    .dataframe tbody tr th {\n",
       "        vertical-align: top;\n",
       "    }\n",
       "\n",
       "    .dataframe thead th {\n",
       "        text-align: right;\n",
       "    }\n",
       "</style>\n",
       "<table border=\"1\" class=\"dataframe\">\n",
       "  <thead>\n",
       "    <tr style=\"text-align: right;\">\n",
       "      <th></th>\n",
       "      <th>id</th>\n",
       "      <th>text</th>\n",
       "      <th>target</th>\n",
       "      <th>word_count</th>\n",
       "      <th>sent_count</th>\n",
       "    </tr>\n",
       "  </thead>\n",
       "  <tbody>\n",
       "    <tr>\n",
       "      <th>0</th>\n",
       "      <td>1</td>\n",
       "      <td>Our Deeds are the Reason of this #earthquake M...</td>\n",
       "      <td>1</td>\n",
       "      <td>14</td>\n",
       "      <td>1</td>\n",
       "    </tr>\n",
       "    <tr>\n",
       "      <th>1</th>\n",
       "      <td>4</td>\n",
       "      <td>Forest fire near La Ronge Sask. Canada</td>\n",
       "      <td>1</td>\n",
       "      <td>8</td>\n",
       "      <td>2</td>\n",
       "    </tr>\n",
       "    <tr>\n",
       "      <th>2</th>\n",
       "      <td>5</td>\n",
       "      <td>All residents asked to 'shelter in place' are ...</td>\n",
       "      <td>1</td>\n",
       "      <td>24</td>\n",
       "      <td>2</td>\n",
       "    </tr>\n",
       "    <tr>\n",
       "      <th>3</th>\n",
       "      <td>6</td>\n",
       "      <td>13,000 people receive #wildfires evacuation or...</td>\n",
       "      <td>1</td>\n",
       "      <td>9</td>\n",
       "      <td>1</td>\n",
       "    </tr>\n",
       "    <tr>\n",
       "      <th>4</th>\n",
       "      <td>7</td>\n",
       "      <td>Just got sent this photo from Ruby #Alaska as ...</td>\n",
       "      <td>1</td>\n",
       "      <td>18</td>\n",
       "      <td>1</td>\n",
       "    </tr>\n",
       "  </tbody>\n",
       "</table>\n",
       "</div>"
      ],
      "text/plain": [
       "   id                                               text  target  word_count  \\\n",
       "0   1  Our Deeds are the Reason of this #earthquake M...       1          14   \n",
       "1   4             Forest fire near La Ronge Sask. Canada       1           8   \n",
       "2   5  All residents asked to 'shelter in place' are ...       1          24   \n",
       "3   6  13,000 people receive #wildfires evacuation or...       1           9   \n",
       "4   7  Just got sent this photo from Ruby #Alaska as ...       1          18   \n",
       "\n",
       "   sent_count  \n",
       "0           1  \n",
       "1           2  \n",
       "2           2  \n",
       "3           1  \n",
       "4           1  "
      ]
     },
     "execution_count": 12,
     "metadata": {},
     "output_type": "execute_result"
    }
   ],
   "source": [
    "# Word,Sentence count using nltk\n",
    "train_df['word_count'] = train_df['text'].apply(lambda x : len(nltk.word_tokenize(x)))\n",
    "train_df['sent_count'] = train_df['text'].apply(lambda x : len(nltk.sent_tokenize(x)))\n",
    "train_df.head()"
   ]
  },
  {
   "cell_type": "code",
   "execution_count": 13,
   "id": "cd4a9848",
   "metadata": {},
   "outputs": [
    {
     "data": {
      "text/plain": [
       "array([ 1,  2,  3,  4,  5,  6,  7,  8,  9, 11, 13, 20, 22], dtype=int64)"
      ]
     },
     "execution_count": 13,
     "metadata": {},
     "output_type": "execute_result"
    }
   ],
   "source": [
    "# unique sentence count information for visualization purpose\n",
    "np.unique(train_df['sent_count'])"
   ]
  },
  {
   "cell_type": "code",
   "execution_count": 14,
   "id": "b1e44b65",
   "metadata": {},
   "outputs": [
    {
     "data": {
      "image/png": "[encoded data removed]",
      "text/plain": [
       "<Figure size 402.375x360 with 1 Axes>"
      ]
     },
     "metadata": {
      "needs_background": "light"
     },
     "output_type": "display_data"
    }
   ],
   "source": [
    "# plot for target distribution based on sentence count\n",
    "d = train_df.groupby('sent_count')['target'].value_counts(normalize=True).mul(100).rename('% target').reset_index()\n",
    "p1 = sns.catplot(x = 'sent_count',y = '% target', hue='target',kind='bar', data=d)\n",
    "plt.show()"
   ]
  },
  {
   "cell_type": "markdown",
   "id": "3893f866",
   "metadata": {},
   "source": [
    "-   From the above plot, the tweets classified as disaster are found to be short messages with less than 7 sentences per text. "
   ]
  },
  {
   "cell_type": "code",
   "execution_count": 15,
   "id": "97d99a5a",
   "metadata": {},
   "outputs": [
    {
     "data": {
      "text/plain": [
       "array([ 1,  2,  3,  4,  5,  6,  7,  8,  9, 10, 11, 12, 13, 14, 15, 16, 17,\n",
       "       18, 19, 20, 21, 22, 23, 24, 25, 26, 27, 28, 29, 30, 31, 32, 33, 34,\n",
       "       35, 36, 37, 38, 39, 40, 41, 42, 43, 44, 45, 46, 52, 53, 60, 70, 72],\n",
       "      dtype=int64)"
      ]
     },
     "execution_count": 15,
     "metadata": {},
     "output_type": "execute_result"
    }
   ],
   "source": [
    "# unique sentence count information for visualization purpose\n",
    "np.unique(train_df['word_count'])"
   ]
  },
  {
   "cell_type": "code",
   "execution_count": 18,
   "id": "8ebaa579",
   "metadata": {},
   "outputs": [
    {
     "data": {
      "text/plain": [
       "<Figure size 720x720 with 0 Axes>"
      ]
     },
     "metadata": {},
     "output_type": "display_data"
    },
    {
     "data": {
      "image/png": "[encoded data removed]",
      "text/plain": [
       "<Figure size 402.375x360 with 1 Axes>"
      ]
     },
     "metadata": {
      "needs_background": "light"
     },
     "output_type": "display_data"
    }
   ],
   "source": [
    "# plot for target distribution based on word count\n",
    "plt.figure(figsize=(10 ,10))\n",
    "\n",
    "d = train_df.groupby('word_count')['target'].value_counts(normalize=True).mul(100).rename('% target').reset_index()\n",
    "p1 = sns.catplot(x = 'word_count',y = '% target', hue='target',kind='bar', data=d)\n",
    "plt.xticks(rotation = 90)\n",
    "plt.show()"
   ]
  },
  {
   "cell_type": "markdown",
   "id": "276d07b6",
   "metadata": {},
   "source": [
    "### Data Preprocessing\n",
    "\n",
    "- Observing some tweets, we notice some junk characters like hashtags, non-imformative stopwords and URLs, hence the following steps will be followed before model building for a better performance.\n",
    "- Cleaning(noise removal): Removing hashtags,URLs and any non-standard text like punctuations,special characters,numbers, emojis, exclamation marks, accents, brackets, commas, semicolons which doesn't add any value to the text.\n",
    "- Tokenization: Splitting tweets into individual words or tokens.\n",
    "- Normalization:  Converting text to lowercase, stemming, and lemmatization.\n",
    "- Stopwords Removal: Eliminating common words that do not contribute to meaning (e.g., \"the\", \"is\", \"in\").\n",
    "- Removing short words of lenth less than 3 characters.\n",
    "- Lemmatizing\n"
   ]
  },
  {
   "cell_type": "code",
   "execution_count": 22,
   "id": "9ea9a049",
   "metadata": {},
   "outputs": [],
   "source": [
    "stop_words = stopwords.words('english')\n",
    "\n",
    "def preprocess(text):\n",
    "    \n",
    "    # convert to lower case\n",
    "    clean_text = text.lower()\n",
    "    \n",
    "    # Remove special characters\n",
    "    clean_text=re.sub(r\"(@\\[A-Za-z0-9]+)|([^0-9A-Za-z \\t])|(\\w+:\\/\\/\\S+)|^rt|http.+?\", \"\", clean_text)\n",
    "    \n",
    "    # Remove Numbers\n",
    "    clean_text=re.sub('[0-9]+', '', clean_text)\n",
    "    \n",
    "    # Remove stopwords and punctuations\n",
    "    clean_text = ' '.join([w for w in clean_text.split() if w not in stop_words and w not in string.punctuation] )\n",
    "    \n",
    "    # Remove short words less than 3 characters\n",
    "    clean_text = ' '.join([w for w in clean_text.split() if len(w) > 3])\n",
    "    \n",
    "    clean_text = ''.join([WordNetLemmatizer().lemmatize(word) for word in clean_text])\n",
    "    \n",
    "    return clean_text\n",
    "\n"
   ]
  },
  {
   "cell_type": "code",
   "execution_count": 23,
   "id": "df8efa07",
   "metadata": {},
   "outputs": [
    {
     "data": {
      "text/html": [
       "<div>\n",
       "<style scoped>\n",
       "    .dataframe tbody tr th:only-of-type {\n",
       "        vertical-align: middle;\n",
       "    }\n",
       "\n",
       "    .dataframe tbody tr th {\n",
       "        vertical-align: top;\n",
       "    }\n",
       "\n",
       "    .dataframe thead th {\n",
       "        text-align: right;\n",
       "    }\n",
       "</style>\n",
       "<table border=\"1\" class=\"dataframe\">\n",
       "  <thead>\n",
       "    <tr style=\"text-align: right;\">\n",
       "      <th></th>\n",
       "      <th>id</th>\n",
       "      <th>text</th>\n",
       "      <th>target</th>\n",
       "      <th>word_count</th>\n",
       "      <th>sent_count</th>\n",
       "      <th>clean_text</th>\n",
       "      <th>new_wc</th>\n",
       "    </tr>\n",
       "  </thead>\n",
       "  <tbody>\n",
       "    <tr>\n",
       "      <th>0</th>\n",
       "      <td>1</td>\n",
       "      <td>Our Deeds are the Reason of this #earthquake M...</td>\n",
       "      <td>1</td>\n",
       "      <td>14</td>\n",
       "      <td>1</td>\n",
       "      <td>deeds reason earthquake allah forgive</td>\n",
       "      <td>5</td>\n",
       "    </tr>\n",
       "    <tr>\n",
       "      <th>1</th>\n",
       "      <td>4</td>\n",
       "      <td>Forest fire near La Ronge Sask. Canada</td>\n",
       "      <td>1</td>\n",
       "      <td>8</td>\n",
       "      <td>2</td>\n",
       "      <td>forest fire near ronge sask canada</td>\n",
       "      <td>6</td>\n",
       "    </tr>\n",
       "    <tr>\n",
       "      <th>2</th>\n",
       "      <td>5</td>\n",
       "      <td>All residents asked to 'shelter in place' are ...</td>\n",
       "      <td>1</td>\n",
       "      <td>24</td>\n",
       "      <td>2</td>\n",
       "      <td>residents asked shelter place notified officer...</td>\n",
       "      <td>11</td>\n",
       "    </tr>\n",
       "    <tr>\n",
       "      <th>3</th>\n",
       "      <td>6</td>\n",
       "      <td>13,000 people receive #wildfires evacuation or...</td>\n",
       "      <td>1</td>\n",
       "      <td>9</td>\n",
       "      <td>1</td>\n",
       "      <td>people receive wildfires evacuation orders cal...</td>\n",
       "      <td>6</td>\n",
       "    </tr>\n",
       "    <tr>\n",
       "      <th>4</th>\n",
       "      <td>7</td>\n",
       "      <td>Just got sent this photo from Ruby #Alaska as ...</td>\n",
       "      <td>1</td>\n",
       "      <td>18</td>\n",
       "      <td>1</td>\n",
       "      <td>sent photo ruby alaska smoke wildfires pours s...</td>\n",
       "      <td>8</td>\n",
       "    </tr>\n",
       "  </tbody>\n",
       "</table>\n",
       "</div>"
      ],
      "text/plain": [
       "   id                                               text  target  word_count  \\\n",
       "0   1  Our Deeds are the Reason of this #earthquake M...       1          14   \n",
       "1   4             Forest fire near La Ronge Sask. Canada       1           8   \n",
       "2   5  All residents asked to 'shelter in place' are ...       1          24   \n",
       "3   6  13,000 people receive #wildfires evacuation or...       1           9   \n",
       "4   7  Just got sent this photo from Ruby #Alaska as ...       1          18   \n",
       "\n",
       "   sent_count                                         clean_text  new_wc  \n",
       "0           1              deeds reason earthquake allah forgive       5  \n",
       "1           2                 forest fire near ronge sask canada       6  \n",
       "2           2  residents asked shelter place notified officer...      11  \n",
       "3           1  people receive wildfires evacuation orders cal...       6  \n",
       "4           1  sent photo ruby alaska smoke wildfires pours s...       8  "
      ]
     },
     "execution_count": 23,
     "metadata": {},
     "output_type": "execute_result"
    }
   ],
   "source": [
    "# Train data  \n",
    "train_df['clean_text'] = train_df['text'].apply(preprocess)\n",
    "train_df['new_wc'] = train_df['clean_text'].apply(lambda n: len(n.split()))\n",
    "train_df.head() "
   ]
  },
  {
   "cell_type": "code",
   "execution_count": 24,
   "id": "fafd21d3",
   "metadata": {},
   "outputs": [
    {
     "data": {
      "text/html": [
       "<div>\n",
       "<style scoped>\n",
       "    .dataframe tbody tr th:only-of-type {\n",
       "        vertical-align: middle;\n",
       "    }\n",
       "\n",
       "    .dataframe tbody tr th {\n",
       "        vertical-align: top;\n",
       "    }\n",
       "\n",
       "    .dataframe thead th {\n",
       "        text-align: right;\n",
       "    }\n",
       "</style>\n",
       "<table border=\"1\" class=\"dataframe\">\n",
       "  <thead>\n",
       "    <tr style=\"text-align: right;\">\n",
       "      <th></th>\n",
       "      <th>id</th>\n",
       "      <th>text</th>\n",
       "      <th>clean_text</th>\n",
       "      <th>new_wc</th>\n",
       "    </tr>\n",
       "  </thead>\n",
       "  <tbody>\n",
       "    <tr>\n",
       "      <th>0</th>\n",
       "      <td>0</td>\n",
       "      <td>Just happened a terrible car crash</td>\n",
       "      <td>happened terrible crash</td>\n",
       "      <td>3</td>\n",
       "    </tr>\n",
       "    <tr>\n",
       "      <th>1</th>\n",
       "      <td>2</td>\n",
       "      <td>Heard about #earthquake is different cities, s...</td>\n",
       "      <td>heard earthquake different cities stay safe ev...</td>\n",
       "      <td>7</td>\n",
       "    </tr>\n",
       "    <tr>\n",
       "      <th>2</th>\n",
       "      <td>3</td>\n",
       "      <td>there is a forest fire at spot pond, geese are...</td>\n",
       "      <td>forest fire spot pond geese fleeing across str...</td>\n",
       "      <td>10</td>\n",
       "    </tr>\n",
       "    <tr>\n",
       "      <th>3</th>\n",
       "      <td>9</td>\n",
       "      <td>Apocalypse lighting. #Spokane #wildfires</td>\n",
       "      <td>apocalypse lighting spokane wildfires</td>\n",
       "      <td>4</td>\n",
       "    </tr>\n",
       "    <tr>\n",
       "      <th>4</th>\n",
       "      <td>11</td>\n",
       "      <td>Typhoon Soudelor kills 28 in China and Taiwan</td>\n",
       "      <td>typhoon soudelor kills china taiwan</td>\n",
       "      <td>5</td>\n",
       "    </tr>\n",
       "  </tbody>\n",
       "</table>\n",
       "</div>"
      ],
      "text/plain": [
       "   id                                               text  \\\n",
       "0   0                 Just happened a terrible car crash   \n",
       "1   2  Heard about #earthquake is different cities, s...   \n",
       "2   3  there is a forest fire at spot pond, geese are...   \n",
       "3   9           Apocalypse lighting. #Spokane #wildfires   \n",
       "4  11      Typhoon Soudelor kills 28 in China and Taiwan   \n",
       "\n",
       "                                          clean_text  new_wc  \n",
       "0                            happened terrible crash       3  \n",
       "1  heard earthquake different cities stay safe ev...       7  \n",
       "2  forest fire spot pond geese fleeing across str...      10  \n",
       "3              apocalypse lighting spokane wildfires       4  \n",
       "4                typhoon soudelor kills china taiwan       5  "
      ]
     },
     "execution_count": 24,
     "metadata": {},
     "output_type": "execute_result"
    }
   ],
   "source": [
    "# Test data\n",
    "test_df['clean_text'] = test_df['text'].apply(preprocess)\n",
    "test_df['new_wc'] = test_df['clean_text'].apply(lambda n: len(n.split()))\n",
    "test_df.head() "
   ]
  },
  {
   "cell_type": "code",
   "execution_count": 25,
   "id": "f17be393",
   "metadata": {},
   "outputs": [
    {
     "data": {
      "image/png": "[encoded data removed]",
      "text/plain": [
       "<Figure size 720x720 with 1 Axes>"
      ]
     },
     "metadata": {
      "needs_background": "light"
     },
     "output_type": "display_data"
    }
   ],
   "source": [
    "# frequency words plot for Not-disaster tweets\n",
    "nd_df = train_df[train_df['target'] == 0]\n",
    "plt.figure(figsize=(10,10))\n",
    "words = ' '.join(nd_df['clean_text']).split()\n",
    "w_freq = pd.Series(words).value_counts()\n",
    "w_freq.head(15).plot(kind='bar')\n",
    "plt.title(\"Top 15 frequent words for Non-disaster tweets\")\n",
    "plt.xticks(rotation = 45)\n",
    "plt.show()"
   ]
  },
  {
   "cell_type": "code",
   "execution_count": 26,
   "id": "a3f78dd4",
   "metadata": {},
   "outputs": [
    {
     "data": {
      "image/png": "[encoded data removed]",
      "text/plain": [
       "<Figure size 720x720 with 1 Axes>"
      ]
     },
     "metadata": {
      "needs_background": "light"
     },
     "output_type": "display_data"
    }
   ],
   "source": [
    "# frequency words plot for Disaster tweets\n",
    "d_df = train_df[train_df['target'] == 1]\n",
    "plt.figure(figsize=(10,10))\n",
    "words = ' '.join(d_df['clean_text']).split()\n",
    "w_freq = pd.Series(words).value_counts()\n",
    "w_freq.head(15).plot(kind='bar')\n",
    "plt.title(\"Top 15 frequent words for Disaster tweets\")\n",
    "plt.xticks(rotation = 45)\n",
    "plt.show()"
   ]
  },
  {
   "cell_type": "code",
   "execution_count": 27,
   "id": "4d9d9cc2",
   "metadata": {},
   "outputs": [
    {
     "data": {
      "text/html": [
       "<div>\n",
       "<style scoped>\n",
       "    .dataframe tbody tr th:only-of-type {\n",
       "        vertical-align: middle;\n",
       "    }\n",
       "\n",
       "    .dataframe tbody tr th {\n",
       "        vertical-align: top;\n",
       "    }\n",
       "\n",
       "    .dataframe thead th {\n",
       "        text-align: right;\n",
       "    }\n",
       "</style>\n",
       "<table border=\"1\" class=\"dataframe\">\n",
       "  <thead>\n",
       "    <tr style=\"text-align: right;\">\n",
       "      <th></th>\n",
       "      <th>id</th>\n",
       "      <th>text</th>\n",
       "      <th>target</th>\n",
       "      <th>word_count</th>\n",
       "      <th>sent_count</th>\n",
       "      <th>clean_text</th>\n",
       "      <th>new_wc</th>\n",
       "    </tr>\n",
       "  </thead>\n",
       "  <tbody>\n",
       "    <tr>\n",
       "      <th>0</th>\n",
       "      <td>1</td>\n",
       "      <td>Our Deeds are the Reason of this #earthquake M...</td>\n",
       "      <td>1</td>\n",
       "      <td>14</td>\n",
       "      <td>1</td>\n",
       "      <td>[deeds, reason, earthquake, allah, forgive]</td>\n",
       "      <td>5</td>\n",
       "    </tr>\n",
       "    <tr>\n",
       "      <th>1</th>\n",
       "      <td>4</td>\n",
       "      <td>Forest fire near La Ronge Sask. Canada</td>\n",
       "      <td>1</td>\n",
       "      <td>8</td>\n",
       "      <td>2</td>\n",
       "      <td>[forest, fire, near, ronge, sask, canada]</td>\n",
       "      <td>6</td>\n",
       "    </tr>\n",
       "    <tr>\n",
       "      <th>2</th>\n",
       "      <td>5</td>\n",
       "      <td>All residents asked to 'shelter in place' are ...</td>\n",
       "      <td>1</td>\n",
       "      <td>24</td>\n",
       "      <td>2</td>\n",
       "      <td>[residents, asked, shelter, place, notified, o...</td>\n",
       "      <td>11</td>\n",
       "    </tr>\n",
       "    <tr>\n",
       "      <th>3</th>\n",
       "      <td>6</td>\n",
       "      <td>13,000 people receive #wildfires evacuation or...</td>\n",
       "      <td>1</td>\n",
       "      <td>9</td>\n",
       "      <td>1</td>\n",
       "      <td>[people, receive, wildfires, evacuation, order...</td>\n",
       "      <td>6</td>\n",
       "    </tr>\n",
       "    <tr>\n",
       "      <th>4</th>\n",
       "      <td>7</td>\n",
       "      <td>Just got sent this photo from Ruby #Alaska as ...</td>\n",
       "      <td>1</td>\n",
       "      <td>18</td>\n",
       "      <td>1</td>\n",
       "      <td>[sent, photo, ruby, alaska, smoke, wildfires, ...</td>\n",
       "      <td>8</td>\n",
       "    </tr>\n",
       "  </tbody>\n",
       "</table>\n",
       "</div>"
      ],
      "text/plain": [
       "   id                                               text  target  word_count  \\\n",
       "0   1  Our Deeds are the Reason of this #earthquake M...       1          14   \n",
       "1   4             Forest fire near La Ronge Sask. Canada       1           8   \n",
       "2   5  All residents asked to 'shelter in place' are ...       1          24   \n",
       "3   6  13,000 people receive #wildfires evacuation or...       1           9   \n",
       "4   7  Just got sent this photo from Ruby #Alaska as ...       1          18   \n",
       "\n",
       "   sent_count                                         clean_text  new_wc  \n",
       "0           1        [deeds, reason, earthquake, allah, forgive]       5  \n",
       "1           2          [forest, fire, near, ronge, sask, canada]       6  \n",
       "2           2  [residents, asked, shelter, place, notified, o...      11  \n",
       "3           1  [people, receive, wildfires, evacuation, order...       6  \n",
       "4           1  [sent, photo, ruby, alaska, smoke, wildfires, ...       8  "
      ]
     },
     "execution_count": 27,
     "metadata": {},
     "output_type": "execute_result"
    }
   ],
   "source": [
    "train_df['clean_text'] = train_df['clean_text'].apply(lambda n: n.split())\n",
    "train_df.head()"
   ]
  },
  {
   "cell_type": "code",
   "execution_count": 28,
   "id": "58ecf74b",
   "metadata": {},
   "outputs": [
    {
     "data": {
      "text/html": [
       "<div>\n",
       "<style scoped>\n",
       "    .dataframe tbody tr th:only-of-type {\n",
       "        vertical-align: middle;\n",
       "    }\n",
       "\n",
       "    .dataframe tbody tr th {\n",
       "        vertical-align: top;\n",
       "    }\n",
       "\n",
       "    .dataframe thead th {\n",
       "        text-align: right;\n",
       "    }\n",
       "</style>\n",
       "<table border=\"1\" class=\"dataframe\">\n",
       "  <thead>\n",
       "    <tr style=\"text-align: right;\">\n",
       "      <th></th>\n",
       "      <th>id</th>\n",
       "      <th>text</th>\n",
       "      <th>clean_text</th>\n",
       "      <th>new_wc</th>\n",
       "    </tr>\n",
       "  </thead>\n",
       "  <tbody>\n",
       "    <tr>\n",
       "      <th>0</th>\n",
       "      <td>0</td>\n",
       "      <td>Just happened a terrible car crash</td>\n",
       "      <td>[happened, terrible, crash]</td>\n",
       "      <td>3</td>\n",
       "    </tr>\n",
       "    <tr>\n",
       "      <th>1</th>\n",
       "      <td>2</td>\n",
       "      <td>Heard about #earthquake is different cities, s...</td>\n",
       "      <td>[heard, earthquake, different, cities, stay, s...</td>\n",
       "      <td>7</td>\n",
       "    </tr>\n",
       "    <tr>\n",
       "      <th>2</th>\n",
       "      <td>3</td>\n",
       "      <td>there is a forest fire at spot pond, geese are...</td>\n",
       "      <td>[forest, fire, spot, pond, geese, fleeing, acr...</td>\n",
       "      <td>10</td>\n",
       "    </tr>\n",
       "    <tr>\n",
       "      <th>3</th>\n",
       "      <td>9</td>\n",
       "      <td>Apocalypse lighting. #Spokane #wildfires</td>\n",
       "      <td>[apocalypse, lighting, spokane, wildfires]</td>\n",
       "      <td>4</td>\n",
       "    </tr>\n",
       "    <tr>\n",
       "      <th>4</th>\n",
       "      <td>11</td>\n",
       "      <td>Typhoon Soudelor kills 28 in China and Taiwan</td>\n",
       "      <td>[typhoon, soudelor, kills, china, taiwan]</td>\n",
       "      <td>5</td>\n",
       "    </tr>\n",
       "  </tbody>\n",
       "</table>\n",
       "</div>"
      ],
      "text/plain": [
       "   id                                               text  \\\n",
       "0   0                 Just happened a terrible car crash   \n",
       "1   2  Heard about #earthquake is different cities, s...   \n",
       "2   3  there is a forest fire at spot pond, geese are...   \n",
       "3   9           Apocalypse lighting. #Spokane #wildfires   \n",
       "4  11      Typhoon Soudelor kills 28 in China and Taiwan   \n",
       "\n",
       "                                          clean_text  new_wc  \n",
       "0                        [happened, terrible, crash]       3  \n",
       "1  [heard, earthquake, different, cities, stay, s...       7  \n",
       "2  [forest, fire, spot, pond, geese, fleeing, acr...      10  \n",
       "3         [apocalypse, lighting, spokane, wildfires]       4  \n",
       "4          [typhoon, soudelor, kills, china, taiwan]       5  "
      ]
     },
     "execution_count": 28,
     "metadata": {},
     "output_type": "execute_result"
    }
   ],
   "source": [
    "test_df['clean_text'] = test_df['clean_text'].apply(lambda n: n.split())\n",
    "test_df.head()"
   ]
  },
  {
   "cell_type": "code",
   "execution_count": 29,
   "id": "1e124f5f",
   "metadata": {},
   "outputs": [
    {
     "data": {
      "text/plain": [
       "20"
      ]
     },
     "execution_count": 29,
     "metadata": {},
     "output_type": "execute_result"
    }
   ],
   "source": [
    "max_len = max(train_df['clean_text'].apply(lambda x: len(x)).values)\n",
    "max_len"
   ]
  },
  {
   "cell_type": "code",
   "execution_count": 30,
   "id": "00eb3b20",
   "metadata": {},
   "outputs": [
    {
     "data": {
      "text/plain": [
       "array([ 0,  1,  2,  3,  4,  5,  6,  7,  8,  9, 10, 11, 12, 13, 14, 15, 16,\n",
       "       17, 20], dtype=int64)"
      ]
     },
     "execution_count": 30,
     "metadata": {},
     "output_type": "execute_result"
    }
   ],
   "source": [
    "# unique sentence count information for visualization purpose\n",
    "np.unique(train_df['new_wc'])"
   ]
  },
  {
   "cell_type": "code",
   "execution_count": 31,
   "id": "47ccff26",
   "metadata": {},
   "outputs": [
    {
     "data": {
      "text/plain": [
       "<Figure size 720x720 with 0 Axes>"
      ]
     },
     "metadata": {},
     "output_type": "display_data"
    },
    {
     "data": {
      "image/png": "[encoded data removed]",
      "text/plain": [
       "<Figure size 402.375x360 with 1 Axes>"
      ]
     },
     "metadata": {
      "needs_background": "light"
     },
     "output_type": "display_data"
    }
   ],
   "source": [
    "# plot for target distribution based on word count\n",
    "plt.figure(figsize=(10,10))\n",
    "\n",
    "d = train_df.groupby('new_wc')['target'].value_counts(normalize=True).mul(100).rename('% target').reset_index()\n",
    "p1 = sns.catplot(x = 'new_wc',y = '% target', hue='target',kind='bar', data=d)\n",
    "plt.xticks(rotation = 90)\n",
    "plt.show()"
   ]
  },
  {
   "cell_type": "code",
   "execution_count": 32,
   "id": "c26ed5c1",
   "metadata": {},
   "outputs": [
    {
     "data": {
      "text/plain": [
       "18"
      ]
     },
     "execution_count": 32,
     "metadata": {},
     "output_type": "execute_result"
    }
   ],
   "source": [
    "# unique sentence count information for visualization purpose\n",
    "max(np.unique(test_df['new_wc']))"
   ]
  },
  {
   "cell_type": "code",
   "execution_count": 33,
   "id": "3a69c4aa",
   "metadata": {},
   "outputs": [
    {
     "data": {
      "text/plain": [
       "<AxesSubplot:xlabel='new_wc', ylabel='Count'>"
      ]
     },
     "execution_count": 33,
     "metadata": {},
     "output_type": "execute_result"
    },
    {
     "data": {
      "image/png": "[encoded data removed]",
      "text/plain": [
       "<Figure size 432x288 with 1 Axes>"
      ]
     },
     "metadata": {
      "needs_background": "light"
     },
     "output_type": "display_data"
    }
   ],
   "source": [
    "sns.histplot(test_df['new_wc'])"
   ]
  },
  {
   "cell_type": "markdown",
   "id": "24de55a9",
   "metadata": {},
   "source": [
    "## STEP3: Model Architecture \n",
    "\n",
    "###  Feature Extraction:\n",
    "- Text Representation: Converting text into numerical representations using techniques like Bag of Words (BoW), Term Frequency-Inverse Document Frequency (TF-IDF), or word embeddings (e.g., Word2Vec, GloVe, BERT).\n",
    "\n",
    "###  Deep Learning Model architecture\n",
    "- Based on the problem and dataset size,it is a Sequence to Vector RNN problem, so we wil use GRU,LSTM and BiLSTM and compare their performances.\n",
    "- Stack one or more layers to capture temporal dependencies in the tweet sequences.\n",
    "- Add fully connected (dense) layers to process the output and produce the final classification. \n",
    "- Use dropout layers to prevent overfitting.\n",
    "- In the output layer, use a sigmoid activation function for binary classification (disaster vs. non-disaster).\n",
    " \n",
    "###  Model Training\n",
    "- Use binary cross-entropy loss for training the model.\n",
    "- Select an optimization algorithm such as Adam or RMSprop.\n",
    "- Choose appropriate batch sizes and the number of epochs for training.\n",
    "- Split the data into training and validation sets.\n",
    "- Train the model on the training set while monitoring its performance on the validation set to avoid overfitting.\n",
    "\n",
    "###  Model Evaluation\n",
    "- Evaluate the model using the test data and submit the results to kaggle.\n"
   ]
  },
  {
   "cell_type": "code",
   "execution_count": 79,
   "id": "741a5601",
   "metadata": {},
   "outputs": [
    {
     "name": "stdout",
     "output_type": "stream",
     "text": [
      "Size of Vocabulary :  19910\n",
      "Maximum length of tweet :  20\n"
     ]
    }
   ],
   "source": [
    "## Tokenizer on Clean text\n",
    "total_tweets = np.concatenate((train_df['clean_text'], test_df['clean_text']))\n",
    "#print(total_tweets_ct)\n",
    "\n",
    "tokenizer = Tokenizer(20000)\n",
    "tokenizer.fit_on_texts(total_tweets)\n",
    "\n",
    "# Vocbvulary Size on clean_text\n",
    "vocab_size = len(tokenizer.word_index) + 1\n",
    "print('Size of Vocabulary : ', vocab_size)\n",
    "\n",
    "max_len = max(len(x) for x in total_tweets)\n",
    "print('Maximum length of tweet : ', max_len)\n",
    "#.split()\n"
   ]
  },
  {
   "cell_type": "code",
   "execution_count": null,
   "id": "eb5325de",
   "metadata": {},
   "outputs": [],
   "source": [
    "# Text to Sequence conversion\n",
    "X_train_seq = tokenizer.texts_to_sequences(train_df['clean_text'])\n",
    "#X_val_seq = tokenizer.texts_to_sequences(X_val)\n",
    "X_test_seq = tokenizer.texts_to_sequences(test_df['clean_text'])\n",
    "#X_train_seq[:5]"
   ]
  },
  {
   "cell_type": "code",
   "execution_count": null,
   "id": "5a4cbebc",
   "metadata": {},
   "outputs": [],
   "source": [
    "# Padding\n",
    "# Padding the sequuences to ensure all are of same length\n",
    "max_length = max_len\n",
    "padding_type ='post'\n",
    "#truncation_type ='post'\n",
    "\n",
    "X_train_pad = pad_sequences(X_train_seq, maxlen= max_length, padding=padding_type)\n",
    "#, truncating=truncation_type)\n",
    "#X_val_pad   = pad_sequences(X_val_seq,   maxlen= max_length, padding=padding_type)\n",
    "#, padding=padding_type, truncating=truncation_type)\n",
    "X_test_pad  = pad_sequences(X_test_seq,  maxlen= max_length, padding=padding_type)\n",
    "#, padding=padding_type, truncating=truncation_type)\n",
    "\n",
    "#print(X_train_pad)\n",
    "\n",
    "print(X_train_pad.shape)\n",
    "#print(X_val_pad.shape)\n",
    "print(X_test_pad.shape)"
   ]
  },
  {
   "cell_type": "markdown",
   "id": "c011a708",
   "metadata": {},
   "source": [
    "### Feature Extraction - Word2Vec Embedding"
   ]
  },
  {
   "cell_type": "code",
   "execution_count": 42,
   "id": "b39fe096",
   "metadata": {},
   "outputs": [],
   "source": [
    "# ! pip install -U gensim"
   ]
  },
  {
   "cell_type": "code",
   "execution_count": 49,
   "id": "f14cffbc",
   "metadata": {},
   "outputs": [
    {
     "data": {
      "text/plain": [
       "(726867, 860210)"
      ]
     },
     "execution_count": 49,
     "metadata": {},
     "output_type": "execute_result"
    }
   ],
   "source": [
    "\"\"\"\n",
    "from gensim.models import Word2Vec\n",
    "w2v_model = Word2Vec(total_tweets , sg=1 , hs=0, negative = 10, workers=2 , window=5, min_count=2,seed=44)  #size=200,\n",
    "w2v_model.train(total_tweets, total_examples=len(total_tweets),epochs=10)\n",
    "\n",
    "# similaraity b/w two words\n",
    "#w2v_model.wv.similarity('chocolate','birthday')\n",
    "\"\"\""
   ]
  },
  {
   "cell_type": "markdown",
   "id": "d70fd70e",
   "metadata": {},
   "source": [
    "### Analysis:\n",
    "- So for model building we will use the values of vocabulary size and maximum length of the tweet.\n",
    "- vocab_size = 20000\n",
    "- max_len = 20 or 100"
   ]
  },
  {
   "cell_type": "markdown",
   "id": "056dd9ea",
   "metadata": {},
   "source": [
    "### Let's split the training data into another training and validation dataset."
   ]
  },
  {
   "cell_type": "code",
   "execution_count": null,
   "id": "07646580",
   "metadata": {},
   "outputs": [],
   "source": [
    "train_df.head()"
   ]
  },
  {
   "cell_type": "code",
   "execution_count": 54,
   "id": "5ecec5f1",
   "metadata": {},
   "outputs": [],
   "source": [
    "X = train_df['clean_text']\n",
    "y = train_df['target']\n",
    "X_train, X_val, y_train, y_val = train_test_split(X, y , test_size = 0.2, random_state = 100)"
   ]
  },
  {
   "cell_type": "code",
   "execution_count": 83,
   "id": "11daff07",
   "metadata": {},
   "outputs": [],
   "source": [
    "#X_train.head(10)"
   ]
  },
  {
   "cell_type": "code",
   "execution_count": 55,
   "id": "03d541c5",
   "metadata": {},
   "outputs": [],
   "source": [
    "#X_train_seq = tokenizer.texts_to_sequences(X_train)\n",
    "#X_val_seq = tokenizer.texts_to_sequences(X_val)\n",
    "X_test_seq = tokenizer.texts_to_sequences(test_df['clean_text'])"
   ]
  },
  {
   "cell_type": "code",
   "execution_count": 62,
   "id": "3d750114",
   "metadata": {},
   "outputs": [
    {
     "data": {
      "text/plain": [
       "[[371, 260, 495, 79, 314],\n",
       " [50, 189, 570, 81, 10283, 10284, 10285, 5793],\n",
       " [13570, 497, 13571, 3, 37, 45, 424, 974, 202, 985],\n",
       " [665, 650, 6, 439, 552, 6, 912, 10948, 5955],\n",
       " [393, 11, 2654, 7677, 200, 828],\n",
       " [24, 20, 9683, 64],\n",
       " [100, 120, 1183, 1527, 316, 13163, 13164, 1527, 72, 1121],\n",
       " [11201, 11202, 11203, 743, 509, 77, 1473, 4386, 138, 1365, 696],\n",
       " [2387, 150, 246, 1, 68],\n",
       " [794, 6436, 338, 2876, 13100, 883, 339, 563, 463, 834]]"
      ]
     },
     "execution_count": 62,
     "metadata": {},
     "output_type": "execute_result"
    }
   ],
   "source": [
    "#X_train_seq[:10]"
   ]
  },
  {
   "cell_type": "code",
   "execution_count": 84,
   "id": "39783646",
   "metadata": {},
   "outputs": [
    {
     "data": {
      "text/plain": [
       "\"\\n# Padding the sequuences to ensure all are of same length\\nmax_length = max_len\\n#print(max_length)\\npadding_type ='post'\\ntruncation_type ='post'\\n\\nX_train_pad = pad_sequences(X_train_seq, maxlen= max_length, padding=padding_type)\\n#, truncating=truncation_type)\\nX_val_pad   = pad_sequences(X_val_seq,   maxlen= max_length, padding=padding_type)\\n#, padding=padding_type, truncating=truncation_type)\\nX_test_pad  = pad_sequences(X_test_seq,  maxlen= max_length, padding=padding_type)\\n#, padding=padding_type, truncating=truncation_type)\\n\\nprint(X_train_pad.shape)\\nprint(X_val_pad.shape)\\nprint(X_test_pad.shape)\\n\""
      ]
     },
     "execution_count": 84,
     "metadata": {},
     "output_type": "execute_result"
    }
   ],
   "source": [
    "\"\"\"\n",
    "# Padding the sequuences to ensure all are of same length\n",
    "max_length = max_len\n",
    "#print(max_length)\n",
    "padding_type ='post'\n",
    "truncation_type ='post'\n",
    "\n",
    "X_train_pad = pad_sequences(X_train_seq, maxlen= max_length, padding=padding_type)\n",
    "#, truncating=truncation_type)\n",
    "X_val_pad   = pad_sequences(X_val_seq,   maxlen= max_length, padding=padding_type)\n",
    "#, padding=padding_type, truncating=truncation_type)\n",
    "X_test_pad  = pad_sequences(X_test_seq,  maxlen= max_length, padding=padding_type)\n",
    "#, padding=padding_type, truncating=truncation_type)\n",
    "\n",
    "print(X_train_pad.shape)\n",
    "print(X_val_pad.shape)\n",
    "print(X_test_pad.shape)\n",
    "\"\"\""
   ]
  },
  {
   "attachments": {
    "image.png": {
     "image/png": "[encoded data removed]"
    }
   },
   "cell_type": "markdown",
   "id": "a52df845",
   "metadata": {},
   "source": [
    "\n",
    "![image.png](attachment:image.png)"
   ]
  },
  {
   "cell_type": "markdown",
   "id": "4561ed9c",
   "metadata": {},
   "source": [
    "###  GRU Model \n",
    "- Requires less training time than other types of recurrent neural networks.\n",
    "- Has fewer parameters than LSTMs, making it faster to train and less prone to overfitting.\n",
    "- Better at capturing long-term dependencies than traditional RNNs due to the gating mechanisms that allow selective information retention and forgetting.\n"
   ]
  },
  {
   "cell_type": "code",
   "execution_count": 74,
   "id": "bf994b44",
   "metadata": {},
   "outputs": [
    {
     "data": {
      "text/html": [
       "<pre style=\"white-space:pre;overflow-x:auto;line-height:normal;font-family:Menlo,'DejaVu Sans Mono',consolas,'Courier New',monospace\"><span style=\"font-weight: bold\">Model: \"sequential\"</span>\n",
       "</pre>\n"
      ],
      "text/plain": [
       "\u001b[1mModel: \"sequential\"\u001b[0m\n"
      ]
     },
     "metadata": {},
     "output_type": "display_data"
    },
    {
     "data": {
      "text/html": [
       "<pre style=\"white-space:pre;overflow-x:auto;line-height:normal;font-family:Menlo,'DejaVu Sans Mono',consolas,'Courier New',monospace\">┏━━━━━━━━━━━━━━━━━━━━━━━━━━━━━━━━━━━━━━┳━━━━━━━━━━━━━━━━━━━━━━━━━━━━━┳━━━━━━━━━━━━━━━━━┓\n",
       "┃<span style=\"font-weight: bold\"> Layer (type)                         </span>┃<span style=\"font-weight: bold\"> Output Shape                </span>┃<span style=\"font-weight: bold\">         Param # </span>┃\n",
       "┡━━━━━━━━━━━━━━━━━━━━━━━━━━━━━━━━━━━━━━╇━━━━━━━━━━━━━━━━━━━━━━━━━━━━━╇━━━━━━━━━━━━━━━━━┩\n",
       "│ embedding_2 (<span style=\"color: #0087ff; text-decoration-color: #0087ff\">Embedding</span>)              │ (<span style=\"color: #00d7ff; text-decoration-color: #00d7ff\">None</span>, <span style=\"color: #00d7ff; text-decoration-color: #00d7ff\">None</span>, <span style=\"color: #00af00; text-decoration-color: #00af00\">128</span>)           │       <span style=\"color: #00af00; text-decoration-color: #00af00\">2,560,000</span> │\n",
       "├──────────────────────────────────────┼─────────────────────────────┼─────────────────┤\n",
       "│ gru (<span style=\"color: #0087ff; text-decoration-color: #0087ff\">GRU</span>)                            │ (<span style=\"color: #00d7ff; text-decoration-color: #00d7ff\">None</span>, <span style=\"color: #00d7ff; text-decoration-color: #00d7ff\">None</span>, <span style=\"color: #00af00; text-decoration-color: #00af00\">128</span>)           │          <span style=\"color: #00af00; text-decoration-color: #00af00\">99,072</span> │\n",
       "├──────────────────────────────────────┼─────────────────────────────┼─────────────────┤\n",
       "│ gru_1 (<span style=\"color: #0087ff; text-decoration-color: #0087ff\">GRU</span>)                          │ (<span style=\"color: #00d7ff; text-decoration-color: #00d7ff\">None</span>, <span style=\"color: #00af00; text-decoration-color: #00af00\">128</span>)                 │          <span style=\"color: #00af00; text-decoration-color: #00af00\">99,072</span> │\n",
       "├──────────────────────────────────────┼─────────────────────────────┼─────────────────┤\n",
       "│ dropout (<span style=\"color: #0087ff; text-decoration-color: #0087ff\">Dropout</span>)                    │ (<span style=\"color: #00d7ff; text-decoration-color: #00d7ff\">None</span>, <span style=\"color: #00af00; text-decoration-color: #00af00\">128</span>)                 │               <span style=\"color: #00af00; text-decoration-color: #00af00\">0</span> │\n",
       "├──────────────────────────────────────┼─────────────────────────────┼─────────────────┤\n",
       "│ dense (<span style=\"color: #0087ff; text-decoration-color: #0087ff\">Dense</span>)                        │ (<span style=\"color: #00d7ff; text-decoration-color: #00d7ff\">None</span>, <span style=\"color: #00af00; text-decoration-color: #00af00\">1</span>)                   │             <span style=\"color: #00af00; text-decoration-color: #00af00\">129</span> │\n",
       "└──────────────────────────────────────┴─────────────────────────────┴─────────────────┘\n",
       "</pre>\n"
      ],
      "text/plain": [
       "┏━━━━━━━━━━━━━━━━━━━━━━━━━━━━━━━━━━━━━━┳━━━━━━━━━━━━━━━━━━━━━━━━━━━━━┳━━━━━━━━━━━━━━━━━┓\n",
       "┃\u001b[1m \u001b[0m\u001b[1mLayer (type)                        \u001b[0m\u001b[1m \u001b[0m┃\u001b[1m \u001b[0m\u001b[1mOutput Shape               \u001b[0m\u001b[1m \u001b[0m┃\u001b[1m \u001b[0m\u001b[1m        Param #\u001b[0m\u001b[1m \u001b[0m┃\n",
       "┡━━━━━━━━━━━━━━━━━━━━━━━━━━━━━━━━━━━━━━╇━━━━━━━━━━━━━━━━━━━━━━━━━━━━━╇━━━━━━━━━━━━━━━━━┩\n",
       "│ embedding_2 (\u001b[38;5;33mEmbedding\u001b[0m)              │ (\u001b[38;5;45mNone\u001b[0m, \u001b[38;5;45mNone\u001b[0m, \u001b[38;5;34m128\u001b[0m)           │       \u001b[38;5;34m2,560,000\u001b[0m │\n",
       "├──────────────────────────────────────┼─────────────────────────────┼─────────────────┤\n",
       "│ gru (\u001b[38;5;33mGRU\u001b[0m)                            │ (\u001b[38;5;45mNone\u001b[0m, \u001b[38;5;45mNone\u001b[0m, \u001b[38;5;34m128\u001b[0m)           │          \u001b[38;5;34m99,072\u001b[0m │\n",
       "├──────────────────────────────────────┼─────────────────────────────┼─────────────────┤\n",
       "│ gru_1 (\u001b[38;5;33mGRU\u001b[0m)                          │ (\u001b[38;5;45mNone\u001b[0m, \u001b[38;5;34m128\u001b[0m)                 │          \u001b[38;5;34m99,072\u001b[0m │\n",
       "├──────────────────────────────────────┼─────────────────────────────┼─────────────────┤\n",
       "│ dropout (\u001b[38;5;33mDropout\u001b[0m)                    │ (\u001b[38;5;45mNone\u001b[0m, \u001b[38;5;34m128\u001b[0m)                 │               \u001b[38;5;34m0\u001b[0m │\n",
       "├──────────────────────────────────────┼─────────────────────────────┼─────────────────┤\n",
       "│ dense (\u001b[38;5;33mDense\u001b[0m)                        │ (\u001b[38;5;45mNone\u001b[0m, \u001b[38;5;34m1\u001b[0m)                   │             \u001b[38;5;34m129\u001b[0m │\n",
       "└──────────────────────────────────────┴─────────────────────────────┴─────────────────┘\n"
      ]
     },
     "metadata": {},
     "output_type": "display_data"
    },
    {
     "data": {
      "text/html": [
       "<pre style=\"white-space:pre;overflow-x:auto;line-height:normal;font-family:Menlo,'DejaVu Sans Mono',consolas,'Courier New',monospace\"><span style=\"font-weight: bold\"> Total params: </span><span style=\"color: #00af00; text-decoration-color: #00af00\">2,758,273</span> (10.52 MB)\n",
       "</pre>\n"
      ],
      "text/plain": [
       "\u001b[1m Total params: \u001b[0m\u001b[38;5;34m2,758,273\u001b[0m (10.52 MB)\n"
      ]
     },
     "metadata": {},
     "output_type": "display_data"
    },
    {
     "data": {
      "text/html": [
       "<pre style=\"white-space:pre;overflow-x:auto;line-height:normal;font-family:Menlo,'DejaVu Sans Mono',consolas,'Courier New',monospace\"><span style=\"font-weight: bold\"> Trainable params: </span><span style=\"color: #00af00; text-decoration-color: #00af00\">2,758,273</span> (10.52 MB)\n",
       "</pre>\n"
      ],
      "text/plain": [
       "\u001b[1m Trainable params: \u001b[0m\u001b[38;5;34m2,758,273\u001b[0m (10.52 MB)\n"
      ]
     },
     "metadata": {},
     "output_type": "display_data"
    },
    {
     "data": {
      "text/html": [
       "<pre style=\"white-space:pre;overflow-x:auto;line-height:normal;font-family:Menlo,'DejaVu Sans Mono',consolas,'Courier New',monospace\"><span style=\"font-weight: bold\"> Non-trainable params: </span><span style=\"color: #00af00; text-decoration-color: #00af00\">0</span> (0.00 B)\n",
       "</pre>\n"
      ],
      "text/plain": [
       "\u001b[1m Non-trainable params: \u001b[0m\u001b[38;5;34m0\u001b[0m (0.00 B)\n"
      ]
     },
     "metadata": {},
     "output_type": "display_data"
    }
   ],
   "source": [
    "# Set parameters\n",
    "max_features = 20000  # Number of words in the vocabulary built by Tokenizer\n",
    "max_len = 100  # length of the padded sequence\n",
    "embed_size = 128  # Dimension of the embedding layer\n",
    "\n",
    "model_gru = Sequential([\n",
    "    \n",
    "    #TextVectorization(max_tokens = max_features,output_mode='int', output_sequence_length=max_len),\n",
    "    Embedding(max_features , embed_size, input_shape=[None]),\n",
    "    #Embedding(max_features , embed_size, mask_zero=True, input_length = max_len,input_shape=(max_features,)), \n",
    "    GRU(128, return_sequences = True),\n",
    "    GRU(128),\n",
    "    #Flatten(),\n",
    "    #Dense(64, activation='relu'),\n",
    "    Dropout(0.5), #A dropout layer is added to prevent overfitting.\n",
    "    Dense(1, activation='sigmoid')\n",
    "])\n",
    "\n",
    "model_gru.summary()"
   ]
  },
  {
   "cell_type": "markdown",
   "id": "8871c3ed",
   "metadata": {},
   "source": [
    "- Loss is binary-crossentropy because the cross-entropy loss between true and predicted labels is an excellent measure for binary (0 or 1) classification applications.\n",
    "- A smaller batch size of 32 is slower in training but can converge faster."
   ]
  },
  {
   "cell_type": "code",
   "execution_count": 75,
   "id": "4210cce9",
   "metadata": {},
   "outputs": [],
   "source": [
    "model_gru.compile(loss =\"binary_crossentropy\" , optimizer = Adam(learning_rate = 0.0001), metrics =['accuracy'])"
   ]
  },
  {
   "cell_type": "code",
   "execution_count": 76,
   "id": "74577e12",
   "metadata": {},
   "outputs": [
    {
     "name": "stdout",
     "output_type": "stream",
     "text": [
      "Epoch 1/10\n",
      "\u001b[1m191/191\u001b[0m \u001b[32m━━━━━━━━━━━━━━━━━━━━\u001b[0m\u001b[37m\u001b[0m \u001b[1m28s\u001b[0m 130ms/step - accuracy: 0.5735 - loss: 0.6859 - val_accuracy: 0.5719 - val_loss: 0.6832\n",
      "Epoch 2/10\n",
      "\u001b[1m191/191\u001b[0m \u001b[32m━━━━━━━━━━━━━━━━━━━━\u001b[0m\u001b[37m\u001b[0m \u001b[1m26s\u001b[0m 137ms/step - accuracy: 0.5650 - loss: 0.6846 - val_accuracy: 0.5719 - val_loss: 0.6831\n",
      "Epoch 3/10\n",
      "\u001b[1m191/191\u001b[0m \u001b[32m━━━━━━━━━━━━━━━━━━━━\u001b[0m\u001b[37m\u001b[0m \u001b[1m26s\u001b[0m 135ms/step - accuracy: 0.5708 - loss: 0.6834 - val_accuracy: 0.5719 - val_loss: 0.6832\n",
      "Epoch 4/10\n",
      "\u001b[1m191/191\u001b[0m \u001b[32m━━━━━━━━━━━━━━━━━━━━\u001b[0m\u001b[37m\u001b[0m \u001b[1m25s\u001b[0m 133ms/step - accuracy: 0.5686 - loss: 0.6849 - val_accuracy: 0.5719 - val_loss: 0.6832\n",
      "Epoch 5/10\n",
      "\u001b[1m191/191\u001b[0m \u001b[32m━━━━━━━━━━━━━━━━━━━━\u001b[0m\u001b[37m\u001b[0m \u001b[1m26s\u001b[0m 135ms/step - accuracy: 0.5796 - loss: 0.6813 - val_accuracy: 0.5719 - val_loss: 0.6835\n",
      "Epoch 6/10\n",
      "\u001b[1m191/191\u001b[0m \u001b[32m━━━━━━━━━━━━━━━━━━━━\u001b[0m\u001b[37m\u001b[0m \u001b[1m25s\u001b[0m 129ms/step - accuracy: 0.5768 - loss: 0.6819 - val_accuracy: 0.5719 - val_loss: 0.6832\n",
      "Epoch 7/10\n",
      "\u001b[1m191/191\u001b[0m \u001b[32m━━━━━━━━━━━━━━━━━━━━\u001b[0m\u001b[37m\u001b[0m \u001b[1m25s\u001b[0m 130ms/step - accuracy: 0.5741 - loss: 0.6828 - val_accuracy: 0.5719 - val_loss: 0.6831\n",
      "Epoch 8/10\n",
      "\u001b[1m191/191\u001b[0m \u001b[32m━━━━━━━━━━━━━━━━━━━━\u001b[0m\u001b[37m\u001b[0m \u001b[1m25s\u001b[0m 130ms/step - accuracy: 0.5696 - loss: 0.6842 - val_accuracy: 0.5719 - val_loss: 0.6832\n",
      "Epoch 9/10\n",
      "\u001b[1m191/191\u001b[0m \u001b[32m━━━━━━━━━━━━━━━━━━━━\u001b[0m\u001b[37m\u001b[0m \u001b[1m24s\u001b[0m 126ms/step - accuracy: 0.5615 - loss: 0.6859 - val_accuracy: 0.5719 - val_loss: 0.6839\n",
      "Epoch 10/10\n",
      "\u001b[1m191/191\u001b[0m \u001b[32m━━━━━━━━━━━━━━━━━━━━\u001b[0m\u001b[37m\u001b[0m \u001b[1m24s\u001b[0m 127ms/step - accuracy: 0.5710 - loss: 0.6837 - val_accuracy: 0.5719 - val_loss: 0.6832\n"
     ]
    }
   ],
   "source": [
    "#history = model_gru.fit(X_train_pad, y_train, batch_size= 32, epochs = 10,validation_data=(X_val_pad, y_val))\n",
    "history = model_gru.fit(X_train_pad, y , batch_size= 32, epochs = 10, validation_split=0.2)"
   ]
  },
  {
   "cell_type": "markdown",
   "id": "0a2ceade",
   "metadata": {},
   "source": [
    "- Loss is binary-crossentropy because the cross-entropy loss between true and predicted labels is an excellent measure for binary (0 or 1) classification applications.\n",
    "- A smaller batch size of 32 is slower in training but can converge faster."
   ]
  },
  {
   "cell_type": "code",
   "execution_count": null,
   "id": "cd9e43ab",
   "metadata": {},
   "outputs": [],
   "source": [
    "# Plot the learning curves \n",
    "pd.DataFrame(history.history).plot(figsize=(10,8))\n",
    "plt.grid(True)\n",
    "plt.title('Learning_Curves')\n",
    "plt.xlabel('Epochs')\n",
    "plt.ylabel('Loss')\n",
    "plt.gca().set_xlim(1,10)\n",
    "plt.gca().set_ylim(0,2) # setting the vertical range to [0-1]\n",
    "plt.show()"
   ]
  },
  {
   "cell_type": "markdown",
   "id": "a1e368ff",
   "metadata": {},
   "source": [
    "### LSTM Model\n",
    "- LSTMs are designed to capture long-term dependencies in sequential data.\n",
    "- LSTMs can handle inputs and outputs of varying lengths.\n",
    "- LSTMs are capable of learning complex relationships between input and output sequences.\n",
    "\n"
   ]
  },
  {
   "cell_type": "code",
   "execution_count": null,
   "id": "1356a072",
   "metadata": {},
   "outputs": [],
   "source": [
    "# Set parameters\n",
    "max_features = 20000  # Number of words in the vocabulary built by Tokenizer\n",
    "max_len = 100  # length of the padded sequence\n",
    "embed_size = 128  # Dimension of the embedding layer \n",
    "\n",
    "model_lstm = Sequential([\n",
    "    #Embedding(max_features , embed_size, input_shape=[None]),\n",
    "    Embedding(max_features , embed_size, input_length = max_len,input_shape= (max_features,)),\n",
    "    \n",
    "    LSTM(64, activation='tanh',return_sequences = True), \n",
    "    Dropout(0.5),\n",
    "    #BatchNormalization(),\n",
    "    LSTM(64, activation='tanh',return_sequences = False), \n",
    "    Dropout(0.5),\n",
    "    #BatchNormalization(),\n",
    "    Dense(256, activation='relu'),\n",
    "    Dropout(0.5), #A dropout layer is added to prevent overfitting.\n",
    "    #BatchNormalization(),\n",
    "    Dense(128, activation='relu'),\n",
    "    Dropout(0.5),\n",
    "    #BatchNormalization(),\n",
    "    Dense(64, activation='relu'),\n",
    "    Dropout(0.5),\n",
    "    Dense(1, activation='sigmoid')\n",
    "])\n",
    "\n",
    "model_lstm.summary()"
   ]
  },
  {
   "cell_type": "code",
   "execution_count": null,
   "id": "b869d08d",
   "metadata": {},
   "outputs": [],
   "source": [
    "model_lstm.compile(loss =\"binary_crossentropy\" , optimizer = Adam(learning_rate = 0.0001), metrics =['accuracy'])\n",
    "history_lstm = model_lstm.fit(X_train_pad, y , batch_size= 32, epochs = 10, validation_split=0.2)\n",
    "# y_train, validation_data=(X_val_pad, y_val)"
   ]
  },
  {
   "cell_type": "code",
   "execution_count": null,
   "id": "92d99ea4",
   "metadata": {},
   "outputs": [],
   "source": [
    "# Plot the learning curves \n",
    "pd.DataFrame(history_lstm.history).plot(figsize=(10,8))\n",
    "plt.grid(True)\n",
    "plt.title('Learning_Curves')\n",
    "plt.xlabel('Epochs')\n",
    "plt.ylabel('Loss')\n",
    "plt.gca().set_xlim(1,10)\n",
    "plt.gca().set_ylim(0,1.2) # setting the vertical range to [0-1]\n",
    "plt.show()"
   ]
  },
  {
   "cell_type": "markdown",
   "id": "02554324",
   "metadata": {},
   "source": [
    "### BiLSTM Model"
   ]
  },
  {
   "cell_type": "code",
   "execution_count": null,
   "id": "6b55f7e1",
   "metadata": {},
   "outputs": [],
   "source": [
    "# Set parameters\n",
    "max_features = 20000  # Number of words in the vocabulary built by Tokenizer\n",
    "max_len = 100  # length of the padded sequence\n",
    "embed_size = 128  # Dimension of the embedding layer\n",
    "\n",
    "model_Blstm = Sequential([\n",
    "    #Embedding(max_features , embed_size, input_shape=[None]),\n",
    "    Embedding(max_features , embed_size, input_length = max_len,input_shape= (max_features,)),\n",
    "    \n",
    "    Bidirectional(LSTM(64, activation='tanh',return_sequences = True)), \n",
    "    Dropout(0.5),\n",
    "    \n",
    "    Bidirectional(LSTM(64)), \n",
    "    Dropout(0.5),\n",
    "    \n",
    "    Dense(256, activation='relu'),\n",
    "    Dropout(0.5), #A dropout layer is added to prevent overfitting.\n",
    "   \n",
    "    Dense(128, activation='relu'),\n",
    "    Dropout(0.5),\n",
    "  \n",
    "    Dense(64, activation='relu'),\n",
    "    Dropout(0.5),\n",
    "    Dense(1, activation='sigmoid')\n",
    "])\n",
    "\n",
    "model_Blstm.summary()"
   ]
  },
  {
   "cell_type": "code",
   "execution_count": null,
   "id": "77af0e81",
   "metadata": {},
   "outputs": [],
   "source": [
    "model_Blstm.compile(loss =\"binary_crossentropy\" , optimizer = Adam(learning_rate = 0.0001), metrics =['accuracy'])\n",
    "history_Blstm = model_Blstm.fit(X_train_pad, y , batch_size= 32, epochs = 10, validation_split=0.2)\n",
    "# y_train, validation_data=(X_val_pad, y_val)"
   ]
  },
  {
   "cell_type": "code",
   "execution_count": null,
   "id": "8b9b9b06",
   "metadata": {},
   "outputs": [],
   "source": [
    "# Plot the learning curves \n",
    "pd.DataFrame(history_Blstm.history).plot(figsize=(10,8))\n",
    "plt.grid(True)\n",
    "plt.title('Learning_Curves')\n",
    "plt.xlabel('Epochs')\n",
    "plt.ylabel('Loss')\n",
    "plt.gca().set_xlim(1,10)\n",
    "plt.gca().set_ylim(0,1.2) # setting the vertical range to [0-1]\n",
    "plt.show()"
   ]
  },
  {
   "cell_type": "markdown",
   "id": "9520fa43",
   "metadata": {},
   "source": [
    "## STEP4: Results and Analysis\n",
    "- The data is trained on 3 different architectures GRU, LSTM and BiLSTM.\n",
    "- The evaluated test results of the 3 models are submitted individually and their scores are compared.\n",
    "- The Kaggle submission public score of the 7 different models tuned with parameter values are listed:\n",
    "- 1. The basic GRU model score without tokenizer, sequencing and padding is 0.75789.\n",
    "- 2. The GRU model score with lemmatizer, tokenizer, sequencing and padding is 0.76310.\n",
    "- 3. The GRU model score with lemmatizer, tokenizer, sequencing and padding and learning rate of the adam optimer set to 0.0001 is 0.73613.\n",
    "- 4. The LSTM model score  with lemmatizer, tokenizer, sequencing and padding is 0.60128.\n",
    "- 5. The LSTM model score  with lemmatizer, tokenizer, sequencing and padding and learning rate of the adam optimer set to 0.0001 is 0.74563. \n",
    "- 6. The BiLSTM model score  without tokenizer, sequencing and padding is 0.74256."
   ]
  },
  {
   "cell_type": "markdown",
   "id": "d40c6a97",
   "metadata": {},
   "source": [
    "## STEP5: Conclusion\n",
    "### Learning:\n",
    "- Peforming data preprocessing steps such as Lemmatizing,tokenizing, sequencing and padding on the text data improved the performance score of the models.\n",
    "- LSTM model's performance improved from 0.60 to 0.745 when the learning rate value of the adam optimizer was set to 0.0001.\n",
    "- Increasing the Batch size from 32 to 64 slighltly deterirated the model perfromance, hence set the size to 32 for all models later.\n",
    "- The performance of the BiLSTM model is same as other 2 models.\n",
    "- Overall there seems to be overfitting on the training data because of the larger variation in accuracies of the training and validation data. \n",
    "\n",
    "### Improvements:\n",
    "- Different feature extraction methods such asTextVectorization, Word2Vec can be implemented to check for any improvement in the scores and reduction in overfitting.\n"
   ]
  },
  {
   "cell_type": "markdown",
   "id": "5f856191",
   "metadata": {},
   "source": [
    "### Kaggle submission"
   ]
  },
  {
   "cell_type": "code",
   "execution_count": null,
   "id": "1f4a484d",
   "metadata": {},
   "outputs": [],
   "source": [
    "submission_df = pd.DataFrame()\n",
    "submission_df['id'] = test_df['id']\n",
    "submission_df['target'] = list(map(lambda x: 0 if x < 0.5 else 1,np.transpose(model_lstm.predict(X_test_pad, verbose=1))[0]))\n",
    "submission_df.head()\n",
    "#submission_df.shape #(3263, 2)"
   ]
  },
  {
   "cell_type": "code",
   "execution_count": null,
   "id": "e032b8f7",
   "metadata": {},
   "outputs": [],
   "source": [
    "submission_df.to_csv('submission.csv', index=False)"
   ]
  },
  {
   "cell_type": "markdown",
   "id": "ceca094e",
   "metadata": {},
   "source": [
    "### References:\n",
    "\n",
    "1. https://www.geeksforgeeks.org/word-embeddings-in-nlp/\n",
    "2. https://www.ruder.io/deep-learning-nlp-best-practices/\n",
    "3. https://towardsdatascience.com/machine-learning-word-embedding-sentiment-classification-using-keras-b83c28087456\n",
    "4. https://medium.com/@caio_emiliano/twitter-sentiment-analysis-a-comprehensive-guide-to-nlp-and-machine-learning-techniques-b5af9cd213a7\n",
    "5. https://www.atmosera.com/text-classification-with-neural-networks/#:~:text=The%20first%20hidden%20layer%20in,rather%20than%20a%20single%20integer.\n",
    "6. https://medium.com/@jangidajay271/transforming-unstructured-text-into-structured-insights-with-nlp-techniques-f0537583f563#:~:text=While%20NLP%20has%20traditionally%20been,text%2C%20images%2C%20and%20audio."
   ]
  },
  {
   "cell_type": "code",
   "execution_count": null,
   "id": "587eac82",
   "metadata": {},
   "outputs": [],
   "source": []
  }
 ],
 "metadata": {
  "kernelspec": {
   "display_name": "Python 3 (ipykernel)",
   "language": "python",
   "name": "python3"
  },
  "language_info": {
   "codemirror_mode": {
    "name": "ipython",
    "version": 3
   },
   "file_extension": ".py",
   "mimetype": "text/x-python",
   "name": "python",
   "nbconvert_exporter": "python",
   "pygments_lexer": "ipython3",
   "version": "3.9.2"
  }
 },
 "nbformat": 4,
 "nbformat_minor": 5
}
