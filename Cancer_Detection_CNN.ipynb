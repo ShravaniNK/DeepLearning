{
 "cells": [
  {
   "cell_type": "markdown",
   "id": "894f1f22",
   "metadata": {},
   "source": [
    "# CNN Cancer Detection Kaggle Mini-Project"
   ]
  },
  {
   "cell_type": "markdown",
   "id": "f81adb35",
   "metadata": {},
   "source": [
    "\n",
    "## STEP1: *Brief description of the problem and data*\n",
    "-  This is a binary image classification problem to identify metastatic cancer in small image patches taken from larger digital pathology scans of lymph node sections using convolutional neural netwroks. \n",
    "- The training set contains 220025 (size) color images, each of pixel size or dimensions 96 X 96.\n",
    "- A positive label indicates that the center 32x32px region of a patch contains at least one pixel of tumor tissue.\n",
    "- Tumor tissue in the outer region of the patch does not influence the label.\n",
    "- The test set contains 57468 images.\n",
    "- The structure of CNN in deep learning consists of a filter, feature map, pooling and neural network."
   ]
  },
  {
   "cell_type": "markdown",
   "id": "af4de7bb",
   "metadata": {},
   "source": [
    "### Kaggle Notebook link : \n",
    "- Please check the provided kaggle notebook link to see execution results.\n",
    "\n",
    "https://www.kaggle.com/code/venkatabotta/cnn-cancerdetection?scriptVersionId=177721397"
   ]
  },
  {
   "cell_type": "markdown",
   "id": "b783c603",
   "metadata": {},
   "source": [
    "## Install Libraries"
   ]
  },
  {
   "cell_type": "code",
   "execution_count": null,
   "id": "fe80b7e1",
   "metadata": {},
   "outputs": [],
   "source": [
    "#! pip install tensorflow"
   ]
  },
  {
   "cell_type": "code",
   "execution_count": null,
   "id": "21720145",
   "metadata": {},
   "outputs": [],
   "source": [
    "import numpy as np\n",
    "import pandas as pd \n",
    "import matplotlib.pyplot as plt\n",
    "\n",
    "import os\n",
    "import gc\n",
    "import cv2 \n",
    "\n",
    "from glob import glob \n",
    "import time\n",
    "import sklearn\n",
    "from sklearn.model_selection import train_test_split\n",
    "\n",
    "import tensorflow as tf\n",
    "from tensorflow import keras\n",
    "from tensorflow.keras.preprocessing import image\n",
    "from tensorflow.keras.preprocessing.image import ImageDataGenerator\n",
    "from tensorflow.keras import layers, optimizers, models\n",
    "from tensorflow.keras.metrics import AUC\n",
    "\n",
    "from keras.models import Sequential\n",
    "from keras.layers import Dense,Activation, Dropout, Flatten, Conv2D, MaxPooling2D, AveragePooling2D, BatchNormalization\n",
    "from keras.optimizers import RMSprop, SGD, Adam\n",
    "from tensorflow.keras.callbacks import EarlyStopping,ModelCheckpoint\n",
    "from keras.metrics import AUC\n",
    "\n",
    "from PIL import Image\n",
    "from PIL import ImageDraw\n",
    "train_on_gpu = True"
   ]
  },
  {
   "cell_type": "code",
   "execution_count": null,
   "id": "22d7c2ff",
   "metadata": {},
   "outputs": [],
   "source": [
    "# Gets the path of current working directory \n",
    "p = os.getcwd()\n",
    "# Gets the list of all files and directories \n",
    "os.listdir(p) "
   ]
  },
  {
   "cell_type": "markdown",
   "id": "408f1a39",
   "metadata": {},
   "source": [
    "## STEP2: *Exploratory Data Analysis (EDA) — Inspect, Visualize and Clean the Data*"
   ]
  },
  {
   "cell_type": "code",
   "execution_count": null,
   "id": "bdb44491",
   "metadata": {},
   "outputs": [],
   "source": [
    "# Define paths for training and testing sets\n",
    "\n",
    "train_path = 'trainset'\n",
    "#'/kaggle/input/histopathologic-cancer-detection/train/'\n",
    "\n",
    "test_path = 'testset'\n",
    "#'/kaggle/input/histopathologic-cancer-detection/test/'\n",
    "\n",
    "# Obtain the list of files from train and test paths\n",
    "train_img = os.listdir(train_path)\n",
    "test_img = os.listdir(test_path)\n",
    "\n",
    "# Number of images in each dataset\n",
    "print(\"Number of training images:\", len(train_img))\n",
    "print(\"Number of testing images:\", len(test_img))\n",
    "\n",
    "# Load the train label data\n",
    "train_label = pd.read_csv('train_labels.csv')\n",
    "\n",
    "#'/kaggle/input/histopathologic-cancer-detection/train_labels.csv'\n",
    "\n",
    "print(\"------------------------------------------\")\n",
    "print(\"Train_labels shape:\", train_label.shape)\n",
    "print(\"------------------------------------------\")\n",
    "\n",
    "# Check for missing data\n",
    "print(\"Check for missing data:\\n\", train_label.isna().sum())\n",
    "print(\"------------------------------------------\")\n",
    "print(\"Information:\\n\")\n",
    "print(train_label.info())\n",
    "print(\"------------------------------------------\")\n",
    "\n",
    "print(\"Describe:\\n\", train_label.describe())\n",
    "print(\"------------------------------------------\")\n",
    "\n",
    "print(\"Value Counts:\\n\", train_label['label'].value_counts())\n",
    "print(\"------------------------------------------\")\n",
    "print(\"Percentage of labels:\\n\", (train_label['label'].value_counts())/len(train_label) * 100)\n",
    "\n",
    "train_label.head(10)"
   ]
  },
  {
   "cell_type": "code",
   "execution_count": null,
   "id": "7b371feb",
   "metadata": {},
   "outputs": [],
   "source": [
    "# Distribution plot for Labels\n",
    "plt.figure(figsize=(10,8))\n",
    "plt.hist(train_label['label'])\n",
    "plt.xlabel(\"Label\")\n",
    "plt.ylabel(\"Number of Patients\")\n",
    "plt.xticks(rotation=0)\n",
    "plt.show()"
   ]
  },
  {
   "cell_type": "code",
   "execution_count": null,
   "id": "43292b13",
   "metadata": {},
   "outputs": [],
   "source": [
    "# Visualize the images in training data\n",
    "fig = plt.figure(figsize=(20, 5))\n",
    "for i in range(10):\n",
    "    ax = fig.add_subplot(1, 10, i + 1, xticks=[], yticks=[])\n",
    "    im = Image.open(train_path + train_img[i])\n",
    "    plt.imshow(im)\n",
    "    label = train_label.loc[train_label['id'] == train_img[i].split('.')[0], 'label'].values[0]\n",
    "    ax.set_title('Label: %s' %label)"
   ]
  },
  {
   "cell_type": "code",
   "execution_count": null,
   "id": "a57a82b4",
   "metadata": {},
   "outputs": [],
   "source": [
    "# Visualization -method 2\n",
    "fig = plt.figure(figsize=(20, 5))\n",
    "for i in range(10):\n",
    "    ax = fig.add_subplot(1, 10, i + 1, xticks=[], yticks=[])\n",
    "    im = image.load_img(train_path + train_img[i])\n",
    "    plt.imshow(im)\n",
    "    label = train_label.loc[train_label['id'] == train_img[i].split('.')[0], 'label'].values[0]\n",
    "    ax.set_title(f'{i+1} : Label={label}')"
   ]
  },
  {
   "cell_type": "code",
   "execution_count": null,
   "id": "d9817293",
   "metadata": {},
   "outputs": [],
   "source": [
    "# Visualization - Test data\n",
    "fig = plt.figure(figsize=(20, 5))\n",
    "for i in range(10):\n",
    "    ax = fig.add_subplot(1, 10, i + 1, xticks=[], yticks=[])\n",
    "    im = image.load_img(test_path + test_img[i])\n",
    "    plt.imshow(im)"
   ]
  },
  {
   "cell_type": "markdown",
   "id": "08fa2f82",
   "metadata": {},
   "source": [
    "## Analysis:\n",
    "- There is no missing data and needs no cleaning as well.\n",
    "- Since the training label dataset is significantly large (220025 images),processing time will be more. \n",
    "- Also the dataset is unbalanced (60% data is labelled as 0 and 40% data id labelled as 1).\n",
    "- We will use a subset(100000 images) of the original dataset by using Disproportionate sampling method  where the sample size of each label is equal irrespective of its population.\n",
    "- Doing so we will get a reduced and balanced new dataset."
   ]
  },
  {
   "cell_type": "code",
   "execution_count": null,
   "id": "dd60c01c",
   "metadata": {},
   "outputs": [],
   "source": [
    "### Reduced dataset\n",
    "new_df = train_label.groupby('label', group_keys=False).apply(lambda x: x.sample(50000))\n",
    "new_df.head()"
   ]
  },
  {
   "cell_type": "code",
   "execution_count": null,
   "id": "349c044f",
   "metadata": {},
   "outputs": [],
   "source": [
    "new_df['id'] = new_df['id'] + '.tif'\n",
    "# Balanced dataset\n",
    "new_df['label'].value_counts()"
   ]
  },
  {
   "cell_type": "markdown",
   "id": "c79bafa7",
   "metadata": {},
   "source": [
    "-  Now we have a balanced dataset. \n",
    "-  We will split the dataset into training and validation datasets before model building."
   ]
  },
  {
   "cell_type": "code",
   "execution_count": null,
   "id": "0ee635d2",
   "metadata": {},
   "outputs": [],
   "source": [
    "# split the dataset\n",
    "train_data, val_data = train_test_split(new_df , test_size = 0.2 , random_state = 1234)\n",
    "train_data.shape , val_data.shape"
   ]
  },
  {
   "cell_type": "code",
   "execution_count": null,
   "id": "cfd6ad18",
   "metadata": {},
   "outputs": [],
   "source": [
    "train_data = train_data.astype(str)\n",
    "val_data = val_data.astype(str)"
   ]
  },
  {
   "cell_type": "code",
   "execution_count": null,
   "id": "c654fbb6",
   "metadata": {},
   "outputs": [],
   "source": [
    "# Applies a transformation to an image according to given parameters and returns a transformed version of the input with same shape.\n",
    "data_gen = ImageDataGenerator(rescale = 1.0/255)"
   ]
  },
  {
   "cell_type": "code",
   "execution_count": null,
   "id": "bc36a30c",
   "metadata": {},
   "outputs": [],
   "source": [
    "train_gen = data_gen.flow_from_dataframe(\n",
    "dataframe = train_data,\n",
    "directory = train_path,\n",
    "x_col = 'id',\n",
    "y_col = 'label',\n",
    "seed = 52,\n",
    "target_size =(96,96),\n",
    "batch_size= 32,\n",
    "shuffle = True,\n",
    "class_mode = 'binary'\n",
    ")"
   ]
  },
  {
   "cell_type": "code",
   "execution_count": null,
   "id": "03a42a76",
   "metadata": {},
   "outputs": [],
   "source": [
    "val_gen = data_gen.flow_from_dataframe(\n",
    "dataframe = val_data,\n",
    "directory =train_path,\n",
    "x_col = 'id',\n",
    "y_col = 'label',\n",
    "seed = 52,\n",
    "target_size =(96,96),\n",
    "batch_size= 32,\n",
    "shuffle = True,\n",
    "class_mode = 'binary'\n",
    ")"
   ]
  },
  {
   "cell_type": "code",
   "execution_count": null,
   "id": "f081e10f",
   "metadata": {},
   "outputs": [],
   "source": [
    "# Load the train label data which has image ids and labels\n",
    "test_df = pd.read_csv('sample_submission.csv',dtype=str)\n",
    "print(test_df.shape)\n",
    "test_df.head()"
   ]
  },
  {
   "cell_type": "code",
   "execution_count": null,
   "id": "175efb86",
   "metadata": {},
   "outputs": [],
   "source": [
    "test_df['label'].value_counts()"
   ]
  },
  {
   "cell_type": "code",
   "execution_count": null,
   "id": "fe3f7aa1",
   "metadata": {},
   "outputs": [],
   "source": [
    "test_df['id'] += '.tif'\n",
    "test_df.head()"
   ]
  },
  {
   "cell_type": "code",
   "execution_count": null,
   "id": "ba6832f1",
   "metadata": {},
   "outputs": [],
   "source": [
    "test_gen = data_gen.flow_from_dataframe(\n",
    "dataframe = test_df,\n",
    "directory = test_path,\n",
    "x_col = 'id',\n",
    "y_col = 'label',\n",
    "target_size =(96,96),\n",
    "batch_size= 32,\n",
    "seed=52,\n",
    "shuffle = False, \n",
    "class_mode = None\n",
    ")"
   ]
  },
  {
   "cell_type": "markdown",
   "id": "c6eb74df",
   "metadata": {},
   "source": [
    "## STEP3: *CNN Model Architecture*\n",
    "- This architecture has some building blocks such as fully connected layers and sigmoid activation functions along with two additional building blocks : convolutional layers and pooling layers.\n",
    "-  Each image is of 96 X 96 pixels which has 9216 pixels and the training set we sampled has 100000 images, which means we will have millions of paramaters that will break down deep neural networks. \n",
    "- CNNs can solve this problem using partially connected layers and weight sharing.\n",
    "-  Typical CNN architectures consists of a stack of few convolutional layers with RELU activations, then a pooling layer , then another few convolutional layers with RELU actuvations, a pooling layer and so on.\n",
    "-  With this the image gets smaller as it progresses through the network and deeper with more feature maps. \n",
    "- At the top of the stack, a regular feed forward network is added with fully connected dense layers with RELU activations and the final layer which outpiuts the prediction using a sigmoid function for binary classification tasks."
   ]
  },
  {
   "cell_type": "code",
   "execution_count": null,
   "id": "391883e5",
   "metadata": {},
   "outputs": [],
   "source": [
    "# Model1 - a simple CNN for the binary classification task\n",
    "\n",
    "model1_ROC = keras.metrics.AUC()\n",
    "\n",
    "model1 = Sequential()\n",
    "\n",
    "# first convolutional layer\n",
    "model1.add(Conv2D(filters = 32, kernel_size=(7,7),activation = 'relu',strides = 2,  padding='same',input_shape=[96,96, 3]))\n",
    "#Pooling layers reduce spatial dimensions\n",
    "model1.add(MaxPooling2D(pool_size=(2,2)))\n",
    "\n",
    "# second convolutional layer          \n",
    "model1.add(Conv2D(filters = 64, kernel_size=(3,3),activation = 'relu',padding='same'))\n",
    "\n",
    "# third convolutional layer  \n",
    "model1.add(Conv2D(filters = 64, kernel_size=(3,3),activation = 'relu',padding='same'))\n",
    "\n",
    "# fourth convolutional layer  \n",
    "model1.add(Conv2D(filters = 64, kernel_size=(3,3),activation = 'relu',padding='same'))\n",
    "\n",
    "# fifth convolutional layer  \n",
    "model1.add(Conv2D(filters = 64, kernel_size=(3,3),activation = 'relu',padding='same'))\n",
    "model1.add(MaxPooling2D(pool_size=(2,2)))\n",
    "\n",
    "# sixth convolutional layer  \n",
    "model1.add(Conv2D(filters=128, kernel_size=(3,3),activation = 'relu',padding='same'))\n",
    "\n",
    "# seventh convolutional layer  \n",
    "model1.add(Conv2D(filters=128, kernel_size=(3,3),activation = 'relu', padding='same'))\n",
    "model1.add(MaxPooling2D(pool_size=(2,2)))\n",
    "\n",
    "# flatten the convolutional layers output for fully connected layers\n",
    "model1.add(Flatten())\n",
    "\n",
    "# first fully connected layer\n",
    "model1.add(Dense(128, activation='relu'))    \n",
    "# Dropout layers are used for regularization to prevent overfitting.\n",
    "#It helps prevent overfitting by randomly ignoring a fraction of input units during training\n",
    "model1.add(Dropout(0.5))\n",
    "\n",
    "# second fully connected layer\n",
    "model1.add(Dense(64, activation='relu'))       \n",
    "model1.add(Dropout(0.5))\n",
    "\n",
    "# output layer\n",
    "model1.add(Dense(1, activation='sigmoid'))\n",
    "\n",
    "model1.summary()"
   ]
  },
  {
   "cell_type": "code",
   "execution_count": null,
   "id": "8d1b447b",
   "metadata": {},
   "outputs": [],
   "source": [
    "# compile the model\n",
    "model1.compile(loss='binary_crossentropy', metrics=['accuracy', model1_ROC])\n"
   ]
  },
  {
   "cell_type": "code",
   "execution_count": null,
   "id": "4285aded",
   "metadata": {},
   "outputs": [],
   "source": [
    "# train the model with train generator dataset\n",
    "model_1 = model1.fit(train_gen,\n",
    "        validation_data = val_gen,\n",
    "        epochs = 10 ,\n",
    "        verbose =1\n",
    "        )"
   ]
  },
  {
   "cell_type": "code",
   "execution_count": null,
   "id": "4b73a147",
   "metadata": {},
   "outputs": [],
   "source": [
    "# Plot the learning curves for the simple cnn model_1 \n",
    "pd.DataFrame(model_1.history).plot(figsize=(10,8))\n",
    "plt.grid(True)\n",
    "plt.title('Learning_Curves:Model 2')\n",
    "plt.xlabel('Epochs')\n",
    "plt.ylabel('Loss')\n",
    "plt.gca().set_xlim(1,10)\n",
    "plt.gca().set_ylim(0,1) # setting the vertical range to [0-1]\n",
    "plt.show()"
   ]
  },
  {
   "cell_type": "markdown",
   "id": "78084c6c",
   "metadata": {},
   "source": [
    "## Step 4 : *Results and Analysis*\n",
    "\n",
    "-  Using a simple cnn model with 7 convolutional layers and 2 hidden layers without any optimizer yieled a training accuracy of 0.7809 and validation accuracy of 0.8032.\n",
    "- From the learning curves plot, both the training and validation accuracies, loss and auc values jumped up and down intially and became constant after 8 iterations(epoch).\n",
    "-  Now let's compare multiple architectures with three different most commonly used optimers and tune their hyperparameters to see if there is any improvement in  performance.\n",
    "-  In neural networks,the most commonly used optimization algorithms are gradient descent based(SGD, Adam, RMSprop) which minimizes the loss function by iteratively updating model weights.\n",
    "-  The hyperparameters that can be tuned are learning rate and momentum(for sgd).\n",
    "-  We will also use batch normalization between the layers of CNN to speed up the training. \n",
    "-  We will use early stopping which will interrupt training ealry when there is no progress to avoid wasting time."
   ]
  },
  {
   "cell_type": "markdown",
   "id": "d861118a",
   "metadata": {},
   "source": [
    "## Comparing cnn model performance with 3 different optimizers"
   ]
  },
  {
   "cell_type": "markdown",
   "id": "f7d14c99",
   "metadata": {},
   "source": [
    "### SGD Optimizer"
   ]
  },
  {
   "cell_type": "code",
   "execution_count": null,
   "id": "10eeb29b",
   "metadata": {},
   "outputs": [],
   "source": [
    "# Model-2\n",
    "model2 = Sequential()\n",
    "\n",
    "# first convolutional layer\n",
    "\n",
    "model2.add(Conv2D(filters = 32, kernel_size=(7,7),activation = 'relu',strides = 2,  padding='same',input_shape=[96,96, 3]))\n",
    "model2.add(BatchNormalization())\n",
    "#Pooling layers reduce spatial dimensions by a factor of 2\n",
    "model2.add(MaxPooling2D(pool_size=(2,2))) \n",
    "\n",
    "# second convolutional layer          \n",
    "model2.add(Conv2D(filters = 64, kernel_size=(3,3),activation = 'relu',padding='same'))\n",
    "\n",
    "# third convolutional layer  \n",
    "model2.add(Conv2D(filters = 64, kernel_size=(3,3),activation = 'relu',padding='same'))\n",
    "\n",
    "# fourth convolutional layer  \n",
    "model2.add(Conv2D(filters = 64, kernel_size=(3,3),activation = 'relu',padding='same'))\n",
    "\n",
    "# fifth convolutional layer  \n",
    "model2.add(Conv2D(filters = 64, kernel_size=(3,3),activation = 'relu',padding='same'))\n",
    "model2.add(BatchNormalization())\n",
    "model2.add(MaxPooling2D(pool_size=(2,2)))\n",
    "\n",
    "# sixth convolutional layer  \n",
    "model2.add(Conv2D(filters=128, kernel_size=(3,3),activation = 'relu',padding='same'))\n",
    "\n",
    "# seventh convolutional layer  \n",
    "model2.add(Conv2D(filters=128, kernel_size=(3,3),activation = 'relu', padding='same'))\n",
    "model2.add(BatchNormalization())\n",
    "model2.add(MaxPooling2D(pool_size=(2,2)))\n",
    "\n",
    "# flatten the convolutional layers output for fully connected layers\n",
    "model2.add(Flatten())\n",
    "model2.add(BatchNormalization())\n",
    "# first fully connected layer ---- hidden layer 1\n",
    "model2.add(Dense(128, activation='relu')) \n",
    "model2.add(BatchNormalization())\n",
    "# Dropout layers are used for regularization to prevent overfitting.\n",
    "# It helps prevent overfitting by randomly ignoring a fraction of input units during training\n",
    "model2.add(Dropout(0.5))\n",
    "\n",
    "# second fully connected layer ---- hidden layer 2\n",
    "model2.add(Dense(64, activation='relu'))\n",
    "model2.add(BatchNormalization())\n",
    "model2.add(Dropout(0.5))\n",
    "\n",
    "# output layer\n",
    "model2.add(Dense(1, activation='sigmoid'))\n",
    "    \n",
    "model2.summary()"
   ]
  },
  {
   "cell_type": "code",
   "execution_count": null,
   "id": "61ad9830",
   "metadata": {},
   "outputs": [],
   "source": [
    "# compile the model2 with sgd optimizer\n",
    "sgd = SGD(learning_rate = 0.001 , momentum=0.5)\n",
    "model2.compile(optimizer = sgd, loss='binary_crossentropy', metrics=['accuracy'])"
   ]
  },
  {
   "cell_type": "code",
   "execution_count": null,
   "id": "d49d86e4",
   "metadata": {},
   "outputs": [],
   "source": [
    "# train the model with train generator dataset\n",
    "# patience in earlystopping is the number of epochs with no improvement after which training will be stopped.\n",
    "early_stopping = EarlyStopping(monitor='val_loss',patience= 3, restore_best_weights= True)\n",
    "model_2 = model2.fit(train_gen,\n",
    "        validation_data = val_gen,\n",
    "        epochs = 10 ,\n",
    "        verbose =1, callbacks = [early_stopping]\n",
    "        )"
   ]
  },
  {
   "cell_type": "code",
   "execution_count": null,
   "id": "a02e4fa8",
   "metadata": {},
   "outputs": [],
   "source": [
    "# Plot the learning curves for model_2 (model2 with sgd optimizer)\n",
    "pd.DataFrame(model_2.history).plot(figsize=(10,8))\n",
    "plt.grid(True)\n",
    "plt.title('Learning_Curves:Model 2 with sgd optimizer')\n",
    "plt.xlabel('Epochs')\n",
    "plt.ylabel('Loss')\n",
    "plt.gca().set_xlim(1,10)\n",
    "plt.gca().set_ylim(0,1) # setting the vertical range to [0-1]\n",
    "plt.show()"
   ]
  },
  {
   "cell_type": "markdown",
   "id": "86a2f5ad",
   "metadata": {},
   "source": [
    "### Adam Optimizer"
   ]
  },
  {
   "cell_type": "code",
   "execution_count": null,
   "id": "65b03214",
   "metadata": {},
   "outputs": [],
   "source": [
    "# Model-3\n",
    "model3 = Sequential()\n",
    "\n",
    "# first convolutional layer\n",
    "\n",
    "model3.add(Conv2D(filters = 32, kernel_size=(7,7),activation = 'relu',strides = 2,  padding='same',input_shape=[96,96, 3]))\n",
    "model3.add(BatchNormalization())\n",
    "#Pooling layers reduce spatial dimensions by a factor of 2\n",
    "model3.add(MaxPooling2D(pool_size=(2,2))) \n",
    "\n",
    "# second convolutional layer          \n",
    "model3.add(Conv2D(filters = 64, kernel_size=(3,3),activation = 'relu',padding='same'))\n",
    "\n",
    "# third convolutional layer  \n",
    "model3.add(Conv2D(filters = 64, kernel_size=(3,3),activation = 'relu',padding='same'))\n",
    "\n",
    "# fourth convolutional layer  \n",
    "model3.add(Conv2D(filters = 64, kernel_size=(3,3),activation = 'relu',padding='same'))\n",
    "\n",
    "# fifth convolutional layer  \n",
    "model3.add(Conv2D(filters = 64, kernel_size=(3,3),activation = 'relu',padding='same'))\n",
    "model3.add(BatchNormalization())\n",
    "model3.add(MaxPooling2D(pool_size=(2,2)))\n",
    "\n",
    "# sixth convolutional layer  \n",
    "model3.add(Conv2D(filters=128, kernel_size=(3,3),activation = 'relu',padding='same'))\n",
    "\n",
    "# seventh convolutional layer  \n",
    "model3.add(Conv2D(filters=128, kernel_size=(3,3),activation = 'relu', padding='same'))\n",
    "model3.add(BatchNormalization())\n",
    "model3.add(MaxPooling2D(pool_size=(2,2)))\n",
    "\n",
    "# flatten the convolutional layers output for fully connected layers\n",
    "model3.add(Flatten())\n",
    "model3.add(BatchNormalization())\n",
    "# first fully connected layer ---- hidden layer 1\n",
    "model3.add(Dense(128, activation='relu')) \n",
    "model3.add(BatchNormalization())\n",
    "# Dropout layers are used for regularization to prevent overfitting.\n",
    "# It helps prevent overfitting by randomly ignoring a fraction of input units during training\n",
    "model3.add(Dropout(0.5))\n",
    "\n",
    "# second fully connected layer ---- hidden layer 2\n",
    "model3.add(Dense(64, activation='relu'))     \n",
    "model3.add(BatchNormalization())\n",
    "model3.add(Dropout(0.5))\n",
    "\n",
    "# output layer\n",
    "model3.add(Dense(1, activation='sigmoid'))\n",
    "    \n",
    "model3.summary()"
   ]
  },
  {
   "cell_type": "code",
   "execution_count": null,
   "id": "33b7ae7f",
   "metadata": {},
   "outputs": [],
   "source": [
    "# compile the model3 with Adam optimizer\n",
    "opt1 = Adam(learning_rate = 0.001)\n",
    "model3.compile(optimizer = opt1, loss='binary_crossentropy', metrics=['accuracy'])"
   ]
  },
  {
   "cell_type": "code",
   "execution_count": null,
   "id": "3af787c6",
   "metadata": {},
   "outputs": [],
   "source": [
    "# train the model3 with train generator dataset\n",
    "early_stopping = EarlyStopping(monitor='val_loss',patience= 3, restore_best_weights= True)\n",
    "model_3 = model3.fit(train_gen,\n",
    "        validation_data = val_gen,\n",
    "        epochs = 10 ,\n",
    "        verbose =1,\n",
    "        callbacks = [early_stopping]\n",
    "        )"
   ]
  },
  {
   "cell_type": "code",
   "execution_count": null,
   "id": "0ef28afb",
   "metadata": {},
   "outputs": [],
   "source": [
    "# Plot the learning curves for model_3 (model3 with Adam optimizer)\n",
    "pd.DataFrame(model_3.history).plot(figsize=(10,8))\n",
    "plt.grid(True)\n",
    "plt.title('Learning_Curves:Model2 with Adam optimizer')\n",
    "plt.xlabel('Epochs')\n",
    "plt.ylabel('Loss')\n",
    "plt.gca().set_xlim(1,10)\n",
    "plt.gca().set_ylim(0,1.3) # setting the vertical range to [0-1]\n",
    "plt.show() "
   ]
  },
  {
   "cell_type": "markdown",
   "id": "235352c7",
   "metadata": {},
   "source": [
    "### RMSprop Optimizer"
   ]
  },
  {
   "cell_type": "code",
   "execution_count": null,
   "id": "9da01751",
   "metadata": {},
   "outputs": [],
   "source": [
    "# Model-4\n",
    "model4 = Sequential()\n",
    "\n",
    "# first convolutional layer\n",
    "\n",
    "model4.add(Conv2D(filters = 32, kernel_size=(7,7),activation = 'relu',strides = 2,  padding='same',input_shape=[96,96, 3]))\n",
    "model4.add(BatchNormalization())\n",
    "#Pooling layers reduce spatial dimensions by a factor of 2\n",
    "model4.add(MaxPooling2D(pool_size=(2,2))) \n",
    "\n",
    "# second convolutional layer          \n",
    "model4.add(Conv2D(filters = 64, kernel_size=(3,3),activation = 'relu',padding='same'))\n",
    "\n",
    "# third convolutional layer  \n",
    "model4.add(Conv2D(filters = 64, kernel_size=(3,3),activation = 'relu',padding='same'))\n",
    "\n",
    "# fourth convolutional layer  \n",
    "model4.add(Conv2D(filters = 64, kernel_size=(3,3),activation = 'relu',padding='same'))\n",
    "\n",
    "# fifth convolutional layer  \n",
    "model4.add(Conv2D(filters = 64, kernel_size=(3,3),activation = 'relu',padding='same'))\n",
    "model4.add(BatchNormalization())\n",
    "model4.add(MaxPooling2D(pool_size=(2,2)))\n",
    "\n",
    "# sixth convolutional layer  \n",
    "model4.add(Conv2D(filters=128, kernel_size=(3,3),activation = 'relu',padding='same'))\n",
    "\n",
    "# seventh convolutional layer  \n",
    "model4.add(Conv2D(filters=128, kernel_size=(3,3),activation = 'relu', padding='same'))\n",
    "model4.add(BatchNormalization())\n",
    "model4.add(MaxPooling2D(pool_size=(2,2)))\n",
    "\n",
    "# flatten the convolutional layers output for fully connected layers\n",
    "model4.add(Flatten())\n",
    "model4.add(BatchNormalization())\n",
    "# first fully connected layer ---- hidden layer 1\n",
    "model4.add(Dense(128, activation='relu')) \n",
    "model4.add(BatchNormalization())\n",
    "# Dropout layers are used for regularization to prevent overfitting.\n",
    "# It helps prevent overfitting by randomly ignoring a fraction of input units during training\n",
    "model4.add(Dropout(0.5))\n",
    "\n",
    "# second fully connected layer ---- hidden layer 2\n",
    "model4.add(Dense(64, activation='relu'))    \n",
    "model4.add(BatchNormalization())\n",
    "model4.add(Dropout(0.5))\n",
    "\n",
    "# output layer\n",
    "model4.add(Dense(1, activation='sigmoid'))\n",
    "    \n",
    "model4.summary()"
   ]
  },
  {
   "cell_type": "code",
   "execution_count": null,
   "id": "c4f9e66f",
   "metadata": {},
   "outputs": [],
   "source": [
    "# compile the model4 with RMSprop optimizer\n",
    "opt2 = RMSprop(learning_rate = 0.001)\n",
    "model4.compile(optimizer = opt2, loss='binary_crossentropy', metrics=['accuracy'])"
   ]
  },
  {
   "cell_type": "code",
   "execution_count": null,
   "id": "79dbd91f",
   "metadata": {},
   "outputs": [],
   "source": [
    "# train the model with train generator dataset\n",
    "early_stopping = EarlyStopping(monitor='val_loss',patience= 3, restore_best_weights= True)\n",
    "model_4 = model4.fit(train_gen,\n",
    "        validation_data = val_gen,\n",
    "        epochs = 10 ,\n",
    "        verbose = 1,\n",
    "        callbacks = [early_stopping]\n",
    "        )"
   ]
  },
  {
   "cell_type": "code",
   "execution_count": null,
   "id": "da2b924b",
   "metadata": {},
   "outputs": [],
   "source": [
    "# Plot the learning curves for model_4 (model4 with RMSprop optimizer)\n",
    "pd.DataFrame(model_4.history).plot(figsize=(10,8))\n",
    "plt.grid(True)\n",
    "plt.title('Learning_Curves:Model2 with RMSprop optimizer')\n",
    "plt.xlabel('Epochs')\n",
    "plt.gca().set_xlim(1,10)\n",
    "plt.ylabel('Loss')\n",
    "plt.gca().set_ylim(0,1) # setting the vertical range to [0-1]\n",
    "plt.show()"
   ]
  },
  {
   "cell_type": "markdown",
   "id": "cf4fd3e7",
   "metadata": {},
   "source": [
    "## Step 5: *Conclusion*\n",
    "- The performance of the three optimizers yielded better results than the simple cnn model.\n",
    "- The learning rate is set to 0.001 for all three models.\n",
    "- Batch Normalization and Early Stopping helped speed up the training process.\n",
    "- The model with Optimizer RMSprop performed better with increasing accuracy values and decreasing loss values as can be seen from the learning curves plots.\n",
    "- Due to time constraints and weekly GPU limit, only leraning rate hyperparamter is used for tuning.\n",
    "-  In future various other parameters can be tuned like batch size can also be considered.\n"
   ]
  },
  {
   "cell_type": "markdown",
   "id": "0f6cbeea",
   "metadata": {},
   "source": [
    "## Final Prediction on Test data\n",
    "\n"
   ]
  },
  {
   "cell_type": "code",
   "execution_count": null,
   "id": "3d9aa309",
   "metadata": {},
   "outputs": [],
   "source": [
    "# evaluate the model on the test set\n",
    "model4.predict(test_gen, verbose=1)"
   ]
  },
  {
   "cell_type": "code",
   "execution_count": null,
   "id": "e52409db",
   "metadata": {},
   "outputs": [],
   "source": [
    "\n",
    "submission_df = pd.DataFrame()\n",
    "submission_df['id'] = test_df['id'].apply(lambda x: x.split('.')[0])\n",
    "submission_df['label'] = list(map(lambda x: 0 if x < 0.5 else 1,np.transpose(model4.predict(test_gen, verbose=1))[0]))\n",
    "submission_df.head()"
   ]
  },
  {
   "cell_type": "markdown",
   "id": "ac131d7f",
   "metadata": {},
   "source": [
    "####  The private and public score results of the 4 models submitted to Kaggle competition are :"
   ]
  },
  {
   "cell_type": "markdown",
   "id": "a2d3180b",
   "metadata": {},
   "source": [
    "| Model             | Private Score | Public Score|\n",
    "| :---------------- | :------: | ----: |\n",
    "|Simple cnn model      |   0.7920   | 0.8268 |\n",
    "| Model with sgd optimizer       |  0.7621  | 0.8239 ||\n",
    "|Model with Adam Optimizer  | 0.7933  |  0.8119 |\n",
    "|Model with RMSprop Optimizer | 0.8004  |  0.8302|\n",
    "\n"
   ]
  },
  {
   "cell_type": "code",
   "execution_count": null,
   "id": "8f9f396e",
   "metadata": {},
   "outputs": [],
   "source": [
    "submission_df.to_csv('submission.csv', index=False)"
   ]
  },
  {
   "cell_type": "markdown",
   "id": "2b2e9dc3",
   "metadata": {},
   "source": [
    "### Github Link: \n",
    "\n",
    "https://github.com/ShravaniNK/DeepLearning/edit/main/CNN_Cancer_Detection"
   ]
  },
  {
   "cell_type": "code",
   "execution_count": null,
   "id": "8561de05",
   "metadata": {},
   "outputs": [],
   "source": []
  }
 ],
 "metadata": {
  "kernelspec": {
   "display_name": "Python 3 (ipykernel)",
   "language": "python",
   "name": "python3"
  },
  "language_info": {
   "codemirror_mode": {
    "name": "ipython",
    "version": 3
   },
   "file_extension": ".py",
   "mimetype": "text/x-python",
   "name": "python",
   "nbconvert_exporter": "python",
   "pygments_lexer": "ipython3",
   "version": "3.9.2"
  }
 },
 "nbformat": 4,
 "nbformat_minor": 5
}
